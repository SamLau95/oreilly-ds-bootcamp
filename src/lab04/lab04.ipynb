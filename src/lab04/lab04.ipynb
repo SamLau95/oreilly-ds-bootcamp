{
 "cells": [
  {
   "cell_type": "markdown",
   "metadata": {},
   "source": [
    "```\n",
    "BEGIN ASSIGNMENT\n",
    "init_cell: false\n",
    "export_cell: false\n",
    "check_all_cell: false\n",
    "```"
   ]
  },
  {
   "cell_type": "code",
   "execution_count": null,
   "metadata": {},
   "outputs": [],
   "source": [
    "# This code sets up display options, imports, etc.\n",
    "import sys\n",
    "if sys.platform == 'emscripten':\n",
    "    %pip install -q seaborn plotly\n",
    "import numpy as np\n",
    "import matplotlib.pyplot as plt\n",
    "import pandas as pd\n",
    "import seaborn as sns\n",
    "from matplotlib_inline.backend_inline import set_matplotlib_formats\n",
    "\n",
    "import plotly.express as px\n",
    "import plotly.io as pio\n",
    "\n",
    "# set up plotting defaults\n",
    "%matplotlib inline\n",
    "set_matplotlib_formats(\"svg\")\n",
    "sns.set_style(\"whitegrid\")\n",
    "plt.rcParams[\"figure.figsize\"] = (4, 3)\n",
    "pio.templates.default = \"simple_white\"\n",
    "\n",
    "# Sam's preferred styles\n",
    "pio.templates[\"sam\"] = go.layout.Template(\n",
    "    layout=dict(\n",
    "        margin=dict(l=30, r=30, t=30, b=30),\n",
    "        autosize=True,\n",
    "        width=600,\n",
    "        height=400,\n",
    "        xaxis=dict(showgrid=True),\n",
    "        yaxis=dict(showgrid=True),\n",
    "        title=dict(x=0.5, xanchor=\"center\"),\n",
    "    )\n",
    ")\n",
    "pio.templates.default = \"simple_white+sam\"\n",
    "\n",
    "# display options for numpy and pandas\n",
    "np.set_printoptions(threshold=20, precision=2, suppress=True)\n",
    "pd.set_option(\"display.max_rows\", 7)\n",
    "pd.set_option(\"display.max_columns\", 8)\n",
    "pd.set_option(\"display.precision\", 2)"
   ]
  },
  {
   "cell_type": "markdown",
   "metadata": {},
   "source": [
    "# Lab 4: Case Study on Air Quality\n",
    "\n",
    "**Data Science Bootcamp with Python, Pandas, and Plotly**"
   ]
  },
  {
   "cell_type": "markdown",
   "metadata": {},
   "source": [
    "## Part 1: Cleaning a US Sensor's Data"
   ]
  },
  {
   "cell_type": "code",
   "execution_count": 3,
   "metadata": {},
   "outputs": [
    {
     "data": {
      "text/plain": [
       "'https://github.com/DS-100/textbook/raw/master/content/datasets/purpleair_study/aqs_06-067-0010.csv'"
      ]
     },
     "execution_count": 3,
     "metadata": {},
     "output_type": "execute_result"
    }
   ],
   "source": [
    "def data(csv):\n",
    "    return f'https://github.com/DS-100/textbook/raw/master/content/datasets/purpleair_study/{csv}'\n",
    "\n",
    "data('aqs_06-067-0010.csv')"
   ]
  },
  {
   "cell_type": "code",
   "execution_count": 4,
   "metadata": {},
   "outputs": [
    {
     "data": {
      "text/html": [
       "<div>\n",
       "<style scoped>\n",
       "    .dataframe tbody tr th:only-of-type {\n",
       "        vertical-align: middle;\n",
       "    }\n",
       "\n",
       "    .dataframe tbody tr th {\n",
       "        vertical-align: top;\n",
       "    }\n",
       "\n",
       "    .dataframe thead th {\n",
       "        text-align: right;\n",
       "    }\n",
       "</style>\n",
       "<table border=\"1\" class=\"dataframe\">\n",
       "  <thead>\n",
       "    <tr style=\"text-align: right;\">\n",
       "      <th></th>\n",
       "      <th>state_code</th>\n",
       "      <th>county_code</th>\n",
       "      <th>site_number</th>\n",
       "      <th>parameter_code</th>\n",
       "      <th>...</th>\n",
       "      <th>city</th>\n",
       "      <th>cbsa_code</th>\n",
       "      <th>cbsa</th>\n",
       "      <th>date_of_last_change</th>\n",
       "    </tr>\n",
       "  </thead>\n",
       "  <tbody>\n",
       "    <tr>\n",
       "      <th>0</th>\n",
       "      <td>6</td>\n",
       "      <td>67</td>\n",
       "      <td>10</td>\n",
       "      <td>88101</td>\n",
       "      <td>...</td>\n",
       "      <td>Sacramento</td>\n",
       "      <td>40900</td>\n",
       "      <td>Sacramento--Roseville--Arden-Arcade, CA</td>\n",
       "      <td>2021-09-24</td>\n",
       "    </tr>\n",
       "    <tr>\n",
       "      <th>1</th>\n",
       "      <td>6</td>\n",
       "      <td>67</td>\n",
       "      <td>10</td>\n",
       "      <td>88101</td>\n",
       "      <td>...</td>\n",
       "      <td>Sacramento</td>\n",
       "      <td>40900</td>\n",
       "      <td>Sacramento--Roseville--Arden-Arcade, CA</td>\n",
       "      <td>2021-09-24</td>\n",
       "    </tr>\n",
       "  </tbody>\n",
       "</table>\n",
       "<p>2 rows × 31 columns</p>\n",
       "</div>"
      ],
      "text/plain": [
       "   state_code  county_code  site_number  parameter_code  ...        city   \n",
       "0           6           67           10           88101  ...  Sacramento  \\\n",
       "1           6           67           10           88101  ...  Sacramento   \n",
       "\n",
       "   cbsa_code                                     cbsa date_of_last_change  \n",
       "0      40900  Sacramento--Roseville--Arden-Arcade, CA          2021-09-24  \n",
       "1      40900  Sacramento--Roseville--Arden-Arcade, CA          2021-09-24  \n",
       "\n",
       "[2 rows x 31 columns]"
      ]
     },
     "execution_count": 4,
     "metadata": {},
     "output_type": "execute_result"
    }
   ],
   "source": [
    "aqs = pd.read_csv(data('aqs_06-067-0010.csv'))\n",
    "aqs.head(2)"
   ]
  },
  {
   "cell_type": "code",
   "execution_count": 6,
   "metadata": {},
   "outputs": [
    {
     "data": {
      "text/html": [
       "<div>\n",
       "<style scoped>\n",
       "    .dataframe tbody tr th:only-of-type {\n",
       "        vertical-align: middle;\n",
       "    }\n",
       "\n",
       "    .dataframe tbody tr th {\n",
       "        vertical-align: top;\n",
       "    }\n",
       "\n",
       "    .dataframe thead th {\n",
       "        text-align: right;\n",
       "    }\n",
       "</style>\n",
       "<table border=\"1\" class=\"dataframe\">\n",
       "  <thead>\n",
       "    <tr style=\"text-align: right;\">\n",
       "      <th></th>\n",
       "      <th>0</th>\n",
       "    </tr>\n",
       "  </thead>\n",
       "  <tbody>\n",
       "    <tr>\n",
       "      <th>state_code</th>\n",
       "      <td>6</td>\n",
       "    </tr>\n",
       "    <tr>\n",
       "      <th>county_code</th>\n",
       "      <td>67</td>\n",
       "    </tr>\n",
       "    <tr>\n",
       "      <th>site_number</th>\n",
       "      <td>10</td>\n",
       "    </tr>\n",
       "    <tr>\n",
       "      <th>...</th>\n",
       "      <td>...</td>\n",
       "    </tr>\n",
       "    <tr>\n",
       "      <th>cbsa_code</th>\n",
       "      <td>40900</td>\n",
       "    </tr>\n",
       "    <tr>\n",
       "      <th>cbsa</th>\n",
       "      <td>Sacramento--Roseville--Arden-Arcade, CA</td>\n",
       "    </tr>\n",
       "    <tr>\n",
       "      <th>date_of_last_change</th>\n",
       "      <td>2021-09-24</td>\n",
       "    </tr>\n",
       "  </tbody>\n",
       "</table>\n",
       "<p>31 rows × 1 columns</p>\n",
       "</div>"
      ],
      "text/plain": [
       "                                                           0\n",
       "state_code                                                 6\n",
       "county_code                                               67\n",
       "site_number                                               10\n",
       "...                                                      ...\n",
       "cbsa_code                                              40900\n",
       "cbsa                 Sacramento--Roseville--Arden-Arcade, CA\n",
       "date_of_last_change                               2021-09-24\n",
       "\n",
       "[31 rows x 1 columns]"
      ]
     },
     "execution_count": 6,
     "metadata": {},
     "output_type": "execute_result"
    }
   ],
   "source": [
    "aqs.iloc[0].to_frame()"
   ]
  },
  {
   "cell_type": "markdown",
   "metadata": {},
   "source": [
    "Data dictionary:\n",
    "\n",
    "https://aqs.epa.gov/aqsweb/airdata/FileFormats.html#_hourly_data_files"
   ]
  },
  {
   "cell_type": "markdown",
   "metadata": {},
   "source": [
    "### What should we check about the data quality?\n",
    "\n",
    "https://learningds.org/ch/09/wrangling_checks.html"
   ]
  },
  {
   "cell_type": "code",
   "execution_count": 16,
   "metadata": {},
   "outputs": [],
   "source": [
    "## IGNORE ##\n",
    "\n",
    "# Before we can use this data for analysis, we'll perform validity checks with a\n",
    "# combination of EDA and visualization, then clean the data where necessary.\n",
    "\n",
    "# We will:\n",
    "\n",
    "# 1. Check and correct the granularity of the data.\n",
    "# 1. Remove unneeded columns.\n",
    "# 1. Check validity of the `date_local` column.\n",
    "# 1. Check validity of the `arithmetic_mean` column.\n",
    "\n",
    "# There are many more checks we could perform on this data. If we were planning\n",
    "# to publish this work more broadly, we would be as thorough as possible.\n",
    "# For the sake of brevity, we've chosen a few important validity checks that\n",
    "# specifically reinforce ideas we've covered in data wrangling, EDA, and visualization."
   ]
  },
  {
   "cell_type": "markdown",
   "metadata": {},
   "source": [
    "### What's the Granularity?"
   ]
  },
  {
   "cell_type": "code",
   "execution_count": 7,
   "metadata": {},
   "outputs": [
    {
     "data": {
      "text/plain": [
       "date_local\n",
       "2018-12-31    12\n",
       "2019-06-29    12\n",
       "2019-07-26    12\n",
       "              ..\n",
       "2018-05-29    12\n",
       "2018-05-23    12\n",
       "2019-01-03    12\n",
       "Name: count, Length: 189, dtype: int64"
      ]
     },
     "execution_count": 7,
     "metadata": {},
     "output_type": "execute_result"
    }
   ],
   "source": [
    "aqs['date_local'].value_counts() # SOLUTION"
   ]
  },
  {
   "cell_type": "code",
   "execution_count": 8,
   "metadata": {},
   "outputs": [
    {
     "data": {
      "text/html": [
       "<div>\n",
       "<style scoped>\n",
       "    .dataframe tbody tr th:only-of-type {\n",
       "        vertical-align: middle;\n",
       "    }\n",
       "\n",
       "    .dataframe tbody tr th {\n",
       "        vertical-align: top;\n",
       "    }\n",
       "\n",
       "    .dataframe thead th {\n",
       "        text-align: right;\n",
       "    }\n",
       "</style>\n",
       "<table border=\"1\" class=\"dataframe\">\n",
       "  <thead>\n",
       "    <tr style=\"text-align: right;\">\n",
       "      <th></th>\n",
       "      <th>date_local</th>\n",
       "      <th>pollutant_standard</th>\n",
       "      <th>event_type</th>\n",
       "      <th>arithmetic_mean</th>\n",
       "    </tr>\n",
       "  </thead>\n",
       "  <tbody>\n",
       "    <tr>\n",
       "      <th>0</th>\n",
       "      <td>2018-12-31</td>\n",
       "      <td>PM25 24-hour 2006</td>\n",
       "      <td>NaN</td>\n",
       "      <td>3.1</td>\n",
       "    </tr>\n",
       "    <tr>\n",
       "      <th>1</th>\n",
       "      <td>2018-12-31</td>\n",
       "      <td>PM25 24-hour 2006</td>\n",
       "      <td>Included</td>\n",
       "      <td>3.1</td>\n",
       "    </tr>\n",
       "    <tr>\n",
       "      <th>140</th>\n",
       "      <td>2018-12-31</td>\n",
       "      <td>PM25 Annual 2006</td>\n",
       "      <td>NaN</td>\n",
       "      <td>3.1</td>\n",
       "    </tr>\n",
       "    <tr>\n",
       "      <th>141</th>\n",
       "      <td>2018-12-31</td>\n",
       "      <td>PM25 Annual 2006</td>\n",
       "      <td>Included</td>\n",
       "      <td>3.1</td>\n",
       "    </tr>\n",
       "    <tr>\n",
       "      <th>280</th>\n",
       "      <td>2018-12-31</td>\n",
       "      <td>PM25 24-hour 2012</td>\n",
       "      <td>NaN</td>\n",
       "      <td>3.1</td>\n",
       "    </tr>\n",
       "    <tr>\n",
       "      <th>281</th>\n",
       "      <td>2018-12-31</td>\n",
       "      <td>PM25 24-hour 2012</td>\n",
       "      <td>Included</td>\n",
       "      <td>3.1</td>\n",
       "    </tr>\n",
       "    <tr>\n",
       "      <th>420</th>\n",
       "      <td>2018-12-31</td>\n",
       "      <td>PM25 Annual 2012</td>\n",
       "      <td>NaN</td>\n",
       "      <td>3.1</td>\n",
       "    </tr>\n",
       "    <tr>\n",
       "      <th>421</th>\n",
       "      <td>2018-12-31</td>\n",
       "      <td>PM25 Annual 2012</td>\n",
       "      <td>Included</td>\n",
       "      <td>3.1</td>\n",
       "    </tr>\n",
       "    <tr>\n",
       "      <th>560</th>\n",
       "      <td>2018-12-31</td>\n",
       "      <td>PM25 24-hour 1997</td>\n",
       "      <td>NaN</td>\n",
       "      <td>3.1</td>\n",
       "    </tr>\n",
       "    <tr>\n",
       "      <th>561</th>\n",
       "      <td>2018-12-31</td>\n",
       "      <td>PM25 24-hour 1997</td>\n",
       "      <td>Included</td>\n",
       "      <td>3.1</td>\n",
       "    </tr>\n",
       "    <tr>\n",
       "      <th>700</th>\n",
       "      <td>2018-12-31</td>\n",
       "      <td>PM25 Annual 1997</td>\n",
       "      <td>NaN</td>\n",
       "      <td>3.1</td>\n",
       "    </tr>\n",
       "    <tr>\n",
       "      <th>701</th>\n",
       "      <td>2018-12-31</td>\n",
       "      <td>PM25 Annual 1997</td>\n",
       "      <td>Included</td>\n",
       "      <td>3.1</td>\n",
       "    </tr>\n",
       "  </tbody>\n",
       "</table>\n",
       "</div>"
      ],
      "text/plain": [
       "     date_local pollutant_standard event_type  arithmetic_mean\n",
       "0    2018-12-31  PM25 24-hour 2006        NaN              3.1\n",
       "1    2018-12-31  PM25 24-hour 2006   Included              3.1\n",
       "140  2018-12-31   PM25 Annual 2006        NaN              3.1\n",
       "141  2018-12-31   PM25 Annual 2006   Included              3.1\n",
       "280  2018-12-31  PM25 24-hour 2012        NaN              3.1\n",
       "281  2018-12-31  PM25 24-hour 2012   Included              3.1\n",
       "420  2018-12-31   PM25 Annual 2012        NaN              3.1\n",
       "421  2018-12-31   PM25 Annual 2012   Included              3.1\n",
       "560  2018-12-31  PM25 24-hour 1997        NaN              3.1\n",
       "561  2018-12-31  PM25 24-hour 1997   Included              3.1\n",
       "700  2018-12-31   PM25 Annual 1997        NaN              3.1\n",
       "701  2018-12-31   PM25 Annual 1997   Included              3.1"
      ]
     },
     "metadata": {},
     "output_type": "display_data"
    }
   ],
   "source": [
    "one_date = (aqs.query('date_local == \"2018-12-31\"')\n",
    " [['date_local', 'pollutant_standard', 'event_type', 'arithmetic_mean']]\n",
    ")\n",
    "display_df(one_date, rows=12)"
   ]
  },
  {
   "cell_type": "code",
   "execution_count": 9,
   "metadata": {},
   "outputs": [
    {
     "data": {
      "text/plain": [
       "date_local\n",
       "2018-05-20    0.0\n",
       "2018-05-23    0.0\n",
       "2018-05-29    0.0\n",
       "             ... \n",
       "2019-12-23    0.0\n",
       "2019-12-26    0.0\n",
       "2019-12-29    0.0\n",
       "Name: arithmetic_mean, Length: 189, dtype: float64"
      ]
     },
     "execution_count": 9,
     "metadata": {},
     "output_type": "execute_result"
    }
   ],
   "source": [
    "# BEGIN SOLUTION\n",
    "(aqs\n",
    " .groupby('date_local')\n",
    " ['arithmetic_mean']\n",
    " .agg(np.ptp) # np.ptp computes max() - min()\n",
    ")\n",
    "# For all 189 dates, the max PM2.5 - min PM2.5 is 0\n",
    "# END SOLUTION"
   ]
  },
  {
   "cell_type": "markdown",
   "metadata": {},
   "source": [
    "So, we can simply take the first PM2.5 measurement for each date."
   ]
  },
  {
   "cell_type": "code",
   "execution_count": 10,
   "metadata": {},
   "outputs": [],
   "source": [
    "# BEGIN SOLUTION\n",
    "def rollup_dates(df):\n",
    "    return (\n",
    "        df.groupby('date_local')\n",
    "        .first()\n",
    "        .reset_index()\n",
    "    )\n",
    "# END SOLUTION"
   ]
  },
  {
   "cell_type": "code",
   "execution_count": 11,
   "metadata": {},
   "outputs": [
    {
     "data": {
      "text/html": [
       "<div>\n",
       "<style scoped>\n",
       "    .dataframe tbody tr th:only-of-type {\n",
       "        vertical-align: middle;\n",
       "    }\n",
       "\n",
       "    .dataframe tbody tr th {\n",
       "        vertical-align: top;\n",
       "    }\n",
       "\n",
       "    .dataframe thead th {\n",
       "        text-align: right;\n",
       "    }\n",
       "</style>\n",
       "<table border=\"1\" class=\"dataframe\">\n",
       "  <thead>\n",
       "    <tr style=\"text-align: right;\">\n",
       "      <th></th>\n",
       "      <th>date_local</th>\n",
       "      <th>state_code</th>\n",
       "      <th>county_code</th>\n",
       "      <th>site_number</th>\n",
       "      <th>...</th>\n",
       "      <th>city</th>\n",
       "      <th>cbsa_code</th>\n",
       "      <th>cbsa</th>\n",
       "      <th>date_of_last_change</th>\n",
       "    </tr>\n",
       "  </thead>\n",
       "  <tbody>\n",
       "    <tr>\n",
       "      <th>0</th>\n",
       "      <td>2018-05-20</td>\n",
       "      <td>6</td>\n",
       "      <td>67</td>\n",
       "      <td>10</td>\n",
       "      <td>...</td>\n",
       "      <td>Sacramento</td>\n",
       "      <td>40900</td>\n",
       "      <td>Sacramento--Roseville--Arden-Arcade, CA</td>\n",
       "      <td>2021-09-24</td>\n",
       "    </tr>\n",
       "    <tr>\n",
       "      <th>1</th>\n",
       "      <td>2018-05-23</td>\n",
       "      <td>6</td>\n",
       "      <td>67</td>\n",
       "      <td>10</td>\n",
       "      <td>...</td>\n",
       "      <td>Sacramento</td>\n",
       "      <td>40900</td>\n",
       "      <td>Sacramento--Roseville--Arden-Arcade, CA</td>\n",
       "      <td>2021-09-24</td>\n",
       "    </tr>\n",
       "  </tbody>\n",
       "</table>\n",
       "<p>2 rows × 31 columns</p>\n",
       "</div>"
      ],
      "text/plain": [
       "   date_local  state_code  county_code  site_number  ...        city   \n",
       "0  2018-05-20           6           67           10  ...  Sacramento  \\\n",
       "1  2018-05-23           6           67           10  ...  Sacramento   \n",
       "\n",
       "   cbsa_code                                     cbsa  date_of_last_change  \n",
       "0      40900  Sacramento--Roseville--Arden-Arcade, CA           2021-09-24  \n",
       "1      40900  Sacramento--Roseville--Arden-Arcade, CA           2021-09-24  \n",
       "\n",
       "[2 rows x 31 columns]"
      ]
     },
     "execution_count": 11,
     "metadata": {},
     "output_type": "execute_result"
    }
   ],
   "source": [
    "# BEGIN SOLUTION\n",
    "aqs = (pd.read_csv(data('aqs_06-067-0010.csv'))\n",
    "       .pipe(rollup_dates))\n",
    "aqs.head(2)\n",
    "# END SOLUTION"
   ]
  },
  {
   "cell_type": "markdown",
   "metadata": {},
   "source": [
    "This data cleaning step gives us the desired granularity of `aqs`:\n",
    "every row in `aqs` represents a single date, with an average PM2.5\n",
    "measurement for that date."
   ]
  },
  {
   "cell_type": "markdown",
   "metadata": {},
   "source": [
    "## Removing Unneeded Columns"
   ]
  },
  {
   "cell_type": "markdown",
   "metadata": {},
   "source": [
    "We plan to match the PM2.5 measurements in the `aqs` dataframe with\n",
    "the PurpleAir PM2.5 measurements for each date.\n",
    "To simplify the data, we'll subset out the date and PM2.5 columns and rename the\n",
    "PM2.5 column so that it's easier to understand."
   ]
  },
  {
   "cell_type": "code",
   "execution_count": 12,
   "metadata": {},
   "outputs": [],
   "source": [
    "# BEGIN SOLUTION\n",
    "# If time allows, this would be a short You Try activity\n",
    "def subset_cols(df):\n",
    "    subset = df[['date_local', 'arithmetic_mean']]\n",
    "    return subset.rename(columns={'arithmetic_mean': 'pm25'})\n",
    "# END SOLUTION"
   ]
  },
  {
   "cell_type": "code",
   "execution_count": 13,
   "metadata": {},
   "outputs": [
    {
     "data": {
      "text/html": [
       "<div>\n",
       "<style scoped>\n",
       "    .dataframe tbody tr th:only-of-type {\n",
       "        vertical-align: middle;\n",
       "    }\n",
       "\n",
       "    .dataframe tbody tr th {\n",
       "        vertical-align: top;\n",
       "    }\n",
       "\n",
       "    .dataframe thead th {\n",
       "        text-align: right;\n",
       "    }\n",
       "</style>\n",
       "<table border=\"1\" class=\"dataframe\">\n",
       "  <thead>\n",
       "    <tr style=\"text-align: right;\">\n",
       "      <th></th>\n",
       "      <th>date_local</th>\n",
       "      <th>pm25</th>\n",
       "    </tr>\n",
       "  </thead>\n",
       "  <tbody>\n",
       "    <tr>\n",
       "      <th>0</th>\n",
       "      <td>2018-05-20</td>\n",
       "      <td>6.5</td>\n",
       "    </tr>\n",
       "    <tr>\n",
       "      <th>1</th>\n",
       "      <td>2018-05-23</td>\n",
       "      <td>2.3</td>\n",
       "    </tr>\n",
       "    <tr>\n",
       "      <th>2</th>\n",
       "      <td>2018-05-29</td>\n",
       "      <td>11.8</td>\n",
       "    </tr>\n",
       "    <tr>\n",
       "      <th>...</th>\n",
       "      <td>...</td>\n",
       "      <td>...</td>\n",
       "    </tr>\n",
       "    <tr>\n",
       "      <th>186</th>\n",
       "      <td>2019-12-23</td>\n",
       "      <td>5.7</td>\n",
       "    </tr>\n",
       "    <tr>\n",
       "      <th>187</th>\n",
       "      <td>2019-12-26</td>\n",
       "      <td>2.0</td>\n",
       "    </tr>\n",
       "    <tr>\n",
       "      <th>188</th>\n",
       "      <td>2019-12-29</td>\n",
       "      <td>19.5</td>\n",
       "    </tr>\n",
       "  </tbody>\n",
       "</table>\n",
       "<p>189 rows × 2 columns</p>\n",
       "</div>"
      ],
      "text/plain": [
       "     date_local  pm25\n",
       "0    2018-05-20   6.5\n",
       "1    2018-05-23   2.3\n",
       "2    2018-05-29  11.8\n",
       "..          ...   ...\n",
       "186  2019-12-23   5.7\n",
       "187  2019-12-26   2.0\n",
       "188  2019-12-29  19.5\n",
       "\n",
       "[189 rows x 2 columns]"
      ]
     },
     "execution_count": 13,
     "metadata": {},
     "output_type": "execute_result"
    }
   ],
   "source": [
    "# BEGIN SOLUTION\n",
    "aqs = (pd.read_csv(data('aqs_06-067-0010.csv'))\n",
    "       .pipe(rollup_dates)\n",
    "       .pipe(subset_cols))\n",
    "aqs\n",
    "# END SOLUTION"
   ]
  },
  {
   "cell_type": "markdown",
   "metadata": {},
   "source": [
    "## Checking the Validity of `date_local`"
   ]
  },
  {
   "cell_type": "markdown",
   "metadata": {},
   "source": [
    "Let's take a closer look at the `date_local` column.\n",
    "We can already see that there are gaps in dates where there are no\n",
    "PM2.5 readings."
   ]
  },
  {
   "cell_type": "code",
   "execution_count": 14,
   "metadata": {},
   "outputs": [
    {
     "data": {
      "text/html": [
       "<div>\n",
       "<style scoped>\n",
       "    .dataframe tbody tr th:only-of-type {\n",
       "        vertical-align: middle;\n",
       "    }\n",
       "\n",
       "    .dataframe tbody tr th {\n",
       "        vertical-align: top;\n",
       "    }\n",
       "\n",
       "    .dataframe thead th {\n",
       "        text-align: right;\n",
       "    }\n",
       "</style>\n",
       "<table border=\"1\" class=\"dataframe\">\n",
       "  <thead>\n",
       "    <tr style=\"text-align: right;\">\n",
       "      <th></th>\n",
       "      <th>date_local</th>\n",
       "      <th>pm25</th>\n",
       "    </tr>\n",
       "  </thead>\n",
       "  <tbody>\n",
       "    <tr>\n",
       "      <th>0</th>\n",
       "      <td>2018-05-20</td>\n",
       "      <td>6.5</td>\n",
       "    </tr>\n",
       "    <tr>\n",
       "      <th>1</th>\n",
       "      <td>2018-05-23</td>\n",
       "      <td>2.3</td>\n",
       "    </tr>\n",
       "    <tr>\n",
       "      <th>2</th>\n",
       "      <td>2018-05-29</td>\n",
       "      <td>11.8</td>\n",
       "    </tr>\n",
       "    <tr>\n",
       "      <th>...</th>\n",
       "      <td>...</td>\n",
       "      <td>...</td>\n",
       "    </tr>\n",
       "    <tr>\n",
       "      <th>186</th>\n",
       "      <td>2019-12-23</td>\n",
       "      <td>5.7</td>\n",
       "    </tr>\n",
       "    <tr>\n",
       "      <th>187</th>\n",
       "      <td>2019-12-26</td>\n",
       "      <td>2.0</td>\n",
       "    </tr>\n",
       "    <tr>\n",
       "      <th>188</th>\n",
       "      <td>2019-12-29</td>\n",
       "      <td>19.5</td>\n",
       "    </tr>\n",
       "  </tbody>\n",
       "</table>\n",
       "<p>189 rows × 2 columns</p>\n",
       "</div>"
      ],
      "text/plain": [
       "     date_local  pm25\n",
       "0    2018-05-20   6.5\n",
       "1    2018-05-23   2.3\n",
       "2    2018-05-29  11.8\n",
       "..          ...   ...\n",
       "186  2019-12-23   5.7\n",
       "187  2019-12-26   2.0\n",
       "188  2019-12-29  19.5\n",
       "\n",
       "[189 rows x 2 columns]"
      ]
     },
     "execution_count": 14,
     "metadata": {},
     "output_type": "execute_result"
    }
   ],
   "source": [
    "# The table is sorted by `date_local`, so we see that there are missing dates\n",
    "# between 2018-05-20 and 2018-05-23, for example.\n",
    "aqs"
   ]
  },
  {
   "cell_type": "code",
   "execution_count": 15,
   "metadata": {},
   "outputs": [
    {
     "data": {
      "text/plain": [
       "date_local     object\n",
       "pm25          float64\n",
       "dtype: object"
      ]
     },
     "execution_count": 15,
     "metadata": {},
     "output_type": "execute_result"
    }
   ],
   "source": [
    "# Python strings are recorded as the `object` type in pandas\n",
    "aqs.dtypes"
   ]
  },
  {
   "cell_type": "code",
   "execution_count": 16,
   "metadata": {},
   "outputs": [
    {
     "data": {
      "text/plain": [
       "'2018-05-20'"
      ]
     },
     "execution_count": 16,
     "metadata": {},
     "output_type": "execute_result"
    }
   ],
   "source": [
    "aqs['date_local'].iloc[0]"
   ]
  },
  {
   "cell_type": "code",
   "execution_count": 17,
   "metadata": {},
   "outputs": [
    {
     "data": {
      "text/plain": [
       "0     2018-05-20\n",
       "1     2018-05-23\n",
       "2     2018-05-29\n",
       "         ...    \n",
       "186   2019-12-23\n",
       "187   2019-12-26\n",
       "188   2019-12-29\n",
       "Name: date_local, Length: 189, dtype: datetime64[ns]"
      ]
     },
     "execution_count": 17,
     "metadata": {},
     "output_type": "execute_result"
    }
   ],
   "source": [
    "# BEGIN SOLUTION\n",
    "# This is the Python representation of the YYYY-MM-DD format\n",
    "date_format = '%Y-%m-%d'\n",
    "\n",
    "pd.to_datetime(aqs['date_local'], format=date_format)\n",
    "# END SOLUTION"
   ]
  },
  {
   "cell_type": "code",
   "execution_count": 18,
   "metadata": {},
   "outputs": [],
   "source": [
    "# BEGIN SOLUTION\n",
    "def parse_dates(df):\n",
    "    date_format = '%Y-%m-%d'\n",
    "    timestamps = pd.to_datetime(df['date_local'], format=date_format)\n",
    "    return df.assign(date_local=timestamps)\n",
    "# END SOLUTION"
   ]
  },
  {
   "cell_type": "code",
   "execution_count": 19,
   "metadata": {},
   "outputs": [
    {
     "data": {
      "text/html": [
       "<div>\n",
       "<style scoped>\n",
       "    .dataframe tbody tr th:only-of-type {\n",
       "        vertical-align: middle;\n",
       "    }\n",
       "\n",
       "    .dataframe tbody tr th {\n",
       "        vertical-align: top;\n",
       "    }\n",
       "\n",
       "    .dataframe thead th {\n",
       "        text-align: right;\n",
       "    }\n",
       "</style>\n",
       "<table border=\"1\" class=\"dataframe\">\n",
       "  <thead>\n",
       "    <tr style=\"text-align: right;\">\n",
       "      <th></th>\n",
       "      <th>date_local</th>\n",
       "      <th>pm25</th>\n",
       "    </tr>\n",
       "  </thead>\n",
       "  <tbody>\n",
       "    <tr>\n",
       "      <th>0</th>\n",
       "      <td>2018-05-20</td>\n",
       "      <td>6.5</td>\n",
       "    </tr>\n",
       "    <tr>\n",
       "      <th>1</th>\n",
       "      <td>2018-05-23</td>\n",
       "      <td>2.3</td>\n",
       "    </tr>\n",
       "    <tr>\n",
       "      <th>2</th>\n",
       "      <td>2018-05-29</td>\n",
       "      <td>11.8</td>\n",
       "    </tr>\n",
       "    <tr>\n",
       "      <th>...</th>\n",
       "      <td>...</td>\n",
       "      <td>...</td>\n",
       "    </tr>\n",
       "    <tr>\n",
       "      <th>186</th>\n",
       "      <td>2019-12-23</td>\n",
       "      <td>5.7</td>\n",
       "    </tr>\n",
       "    <tr>\n",
       "      <th>187</th>\n",
       "      <td>2019-12-26</td>\n",
       "      <td>2.0</td>\n",
       "    </tr>\n",
       "    <tr>\n",
       "      <th>188</th>\n",
       "      <td>2019-12-29</td>\n",
       "      <td>19.5</td>\n",
       "    </tr>\n",
       "  </tbody>\n",
       "</table>\n",
       "<p>189 rows × 2 columns</p>\n",
       "</div>"
      ],
      "text/plain": [
       "    date_local  pm25\n",
       "0   2018-05-20   6.5\n",
       "1   2018-05-23   2.3\n",
       "2   2018-05-29  11.8\n",
       "..         ...   ...\n",
       "186 2019-12-23   5.7\n",
       "187 2019-12-26   2.0\n",
       "188 2019-12-29  19.5\n",
       "\n",
       "[189 rows x 2 columns]"
      ]
     },
     "execution_count": 19,
     "metadata": {},
     "output_type": "execute_result"
    }
   ],
   "source": [
    "# BEGIN SOLUTION\n",
    "aqs = (pd.read_csv(data('aqs_06-067-0010.csv'))\n",
    "       .pipe(rollup_dates)\n",
    "       .pipe(subset_cols)\n",
    "       .pipe(parse_dates))\n",
    "aqs\n",
    "# END SOLUTION"
   ]
  },
  {
   "cell_type": "code",
   "execution_count": 20,
   "metadata": {},
   "outputs": [
    {
     "data": {
      "text/plain": [
       "date_local    datetime64[ns]\n",
       "pm25                 float64\n",
       "dtype: object"
      ]
     },
     "execution_count": 20,
     "metadata": {},
     "output_type": "execute_result"
    }
   ],
   "source": [
    "aqs.dtypes"
   ]
  },
  {
   "cell_type": "markdown",
   "metadata": {},
   "source": [
    "Now that the `date_local` contains timestamps, we can calculate how\n",
    "many dates are missing. We'll find the number of days between the earliest and\n",
    "latest date---this corresponds to the maximum number of measurements we could\n",
    "have recorded."
   ]
  },
  {
   "cell_type": "code",
   "execution_count": 21,
   "metadata": {},
   "outputs": [
    {
     "data": {
      "text/plain": [
       "Timedelta('588 days 00:00:00')"
      ]
     },
     "execution_count": 21,
     "metadata": {},
     "output_type": "execute_result"
    }
   ],
   "source": [
    "date_range = aqs['date_local'].max() - aqs['date_local'].min()\n",
    "date_range"
   ]
  },
  {
   "cell_type": "code",
   "execution_count": 22,
   "metadata": {},
   "outputs": [
    {
     "data": {
      "text/plain": [
       "588"
      ]
     },
     "execution_count": 22,
     "metadata": {},
     "output_type": "execute_result"
    }
   ],
   "source": [
    "# Subtracting timestamps give Timedelta objects, which have a few useful\n",
    "# properties like:\n",
    "date_range.days"
   ]
  },
  {
   "cell_type": "code",
   "execution_count": 23,
   "metadata": {},
   "outputs": [
    {
     "name": "stdout",
     "output_type": "stream",
     "text": [
      "We have 189 / 588 measurements, or 32% of the dates possible.\n"
     ]
    }
   ],
   "source": [
    "print(f'We have {len(aqs)} / {date_range.days} measurements, '\n",
    "      f'or {len(aqs) / date_range.days:.0%} of the dates possible.')"
   ]
  },
  {
   "cell_type": "markdown",
   "metadata": {},
   "source": [
    "### Checking the Validity of `pm25`"
   ]
  },
  {
   "cell_type": "code",
   "execution_count": null,
   "metadata": {},
   "outputs": [],
   "source": [
    "px.scatter(aqs, x='date_local', y='pm25')"
   ]
  },
  {
   "cell_type": "markdown",
   "metadata": {},
   "source": [
    "## End of Part 1!"
   ]
  },
  {
   "cell_type": "markdown",
   "metadata": {},
   "source": [
    "## Part 2: Cleaning a PurpleAir Sensor's Data"
   ]
  },
  {
   "cell_type": "code",
   "execution_count": 28,
   "metadata": {},
   "outputs": [
    {
     "data": {
      "text/html": [
       "<div>\n",
       "<style scoped>\n",
       "    .dataframe tbody tr th:only-of-type {\n",
       "        vertical-align: middle;\n",
       "    }\n",
       "\n",
       "    .dataframe tbody tr th {\n",
       "        vertical-align: top;\n",
       "    }\n",
       "\n",
       "    .dataframe thead th {\n",
       "        text-align: right;\n",
       "    }\n",
       "</style>\n",
       "<table border=\"1\" class=\"dataframe\">\n",
       "  <thead>\n",
       "    <tr style=\"text-align: right;\">\n",
       "      <th></th>\n",
       "      <th>created_at</th>\n",
       "      <th>entry_id</th>\n",
       "      <th>PM1.0_CF1_ug/m3</th>\n",
       "      <th>PM2.5_CF1_ug/m3</th>\n",
       "      <th>...</th>\n",
       "      <th>Temperature_F</th>\n",
       "      <th>Humidity_%</th>\n",
       "      <th>PM2.5_ATM_ug/m3</th>\n",
       "      <th>Unnamed: 10</th>\n",
       "    </tr>\n",
       "  </thead>\n",
       "  <tbody>\n",
       "    <tr>\n",
       "      <th>0</th>\n",
       "      <td>2018-05-20 00:00:35 UTC</td>\n",
       "      <td>20733</td>\n",
       "      <td>0.98</td>\n",
       "      <td>1.23</td>\n",
       "      <td>...</td>\n",
       "      <td>83.0</td>\n",
       "      <td>32.0</td>\n",
       "      <td>1.23</td>\n",
       "      <td>NaN</td>\n",
       "    </tr>\n",
       "    <tr>\n",
       "      <th>1</th>\n",
       "      <td>2018-05-20 00:01:55 UTC</td>\n",
       "      <td>20734</td>\n",
       "      <td>0.96</td>\n",
       "      <td>1.94</td>\n",
       "      <td>...</td>\n",
       "      <td>83.0</td>\n",
       "      <td>32.0</td>\n",
       "      <td>1.94</td>\n",
       "      <td>NaN</td>\n",
       "    </tr>\n",
       "    <tr>\n",
       "      <th>2</th>\n",
       "      <td>2018-05-20 00:03:15 UTC</td>\n",
       "      <td>20735</td>\n",
       "      <td>1.07</td>\n",
       "      <td>1.80</td>\n",
       "      <td>...</td>\n",
       "      <td>83.0</td>\n",
       "      <td>32.0</td>\n",
       "      <td>1.80</td>\n",
       "      <td>NaN</td>\n",
       "    </tr>\n",
       "    <tr>\n",
       "      <th>...</th>\n",
       "      <td>...</td>\n",
       "      <td>...</td>\n",
       "      <td>...</td>\n",
       "      <td>...</td>\n",
       "      <td>...</td>\n",
       "      <td>...</td>\n",
       "      <td>...</td>\n",
       "      <td>...</td>\n",
       "      <td>...</td>\n",
       "    </tr>\n",
       "    <tr>\n",
       "      <th>672752</th>\n",
       "      <td>2019-12-29 23:55:30 UTC</td>\n",
       "      <td>523358</td>\n",
       "      <td>24.44</td>\n",
       "      <td>40.45</td>\n",
       "      <td>...</td>\n",
       "      <td>52.0</td>\n",
       "      <td>67.0</td>\n",
       "      <td>36.91</td>\n",
       "      <td>NaN</td>\n",
       "    </tr>\n",
       "    <tr>\n",
       "      <th>672753</th>\n",
       "      <td>2019-12-29 23:57:30 UTC</td>\n",
       "      <td>523359</td>\n",
       "      <td>23.69</td>\n",
       "      <td>37.72</td>\n",
       "      <td>...</td>\n",
       "      <td>58.0</td>\n",
       "      <td>67.0</td>\n",
       "      <td>35.49</td>\n",
       "      <td>NaN</td>\n",
       "    </tr>\n",
       "    <tr>\n",
       "      <th>672754</th>\n",
       "      <td>2019-12-29 23:59:30 UTC</td>\n",
       "      <td>523360</td>\n",
       "      <td>24.60</td>\n",
       "      <td>37.57</td>\n",
       "      <td>...</td>\n",
       "      <td>58.0</td>\n",
       "      <td>66.0</td>\n",
       "      <td>35.33</td>\n",
       "      <td>NaN</td>\n",
       "    </tr>\n",
       "  </tbody>\n",
       "</table>\n",
       "<p>672755 rows × 11 columns</p>\n",
       "</div>"
      ],
      "text/plain": [
       "                     created_at  entry_id  PM1.0_CF1_ug/m3  PM2.5_CF1_ug/m3  \\\n",
       "0       2018-05-20 00:00:35 UTC     20733             0.98             1.23   \n",
       "1       2018-05-20 00:01:55 UTC     20734             0.96             1.94   \n",
       "2       2018-05-20 00:03:15 UTC     20735             1.07             1.80   \n",
       "...                         ...       ...              ...              ...   \n",
       "672752  2019-12-29 23:55:30 UTC    523358            24.44            40.45   \n",
       "672753  2019-12-29 23:57:30 UTC    523359            23.69            37.72   \n",
       "672754  2019-12-29 23:59:30 UTC    523360            24.60            37.57   \n",
       "\n",
       "        ...  Temperature_F  Humidity_%  PM2.5_ATM_ug/m3  Unnamed: 10  \n",
       "0       ...           83.0        32.0             1.23          NaN  \n",
       "1       ...           83.0        32.0             1.94          NaN  \n",
       "2       ...           83.0        32.0             1.80          NaN  \n",
       "...     ...            ...         ...              ...          ...  \n",
       "672752  ...           52.0        67.0            36.91          NaN  \n",
       "672753  ...           58.0        67.0            35.49          NaN  \n",
       "672754  ...           58.0        66.0            35.33          NaN  \n",
       "\n",
       "[672755 rows x 11 columns]"
      ]
     },
     "execution_count": 28,
     "metadata": {},
     "output_type": "execute_result"
    }
   ],
   "source": [
    "pa_raw = pd.read_csv(data('purpleair_AMTS/AMTS_TESTING%20(outside)%20(38.568404%20-121.493163)%20Primary%20Real%20Time%2005_20_2018%2012_29_2019.csv'))\n",
    "pa_raw"
   ]
  },
  {
   "cell_type": "code",
   "execution_count": 30,
   "metadata": {},
   "outputs": [
    {
     "data": {
      "text/html": [
       "<div>\n",
       "<style scoped>\n",
       "    .dataframe tbody tr th:only-of-type {\n",
       "        vertical-align: middle;\n",
       "    }\n",
       "\n",
       "    .dataframe tbody tr th {\n",
       "        vertical-align: top;\n",
       "    }\n",
       "\n",
       "    .dataframe thead th {\n",
       "        text-align: right;\n",
       "    }\n",
       "</style>\n",
       "<table border=\"1\" class=\"dataframe\">\n",
       "  <thead>\n",
       "    <tr style=\"text-align: right;\">\n",
       "      <th></th>\n",
       "      <th>index</th>\n",
       "      <th>0</th>\n",
       "    </tr>\n",
       "  </thead>\n",
       "  <tbody>\n",
       "    <tr>\n",
       "      <th>0</th>\n",
       "      <td>created_at</td>\n",
       "      <td>2018-05-20 00:00:35 UTC</td>\n",
       "    </tr>\n",
       "    <tr>\n",
       "      <th>1</th>\n",
       "      <td>entry_id</td>\n",
       "      <td>20733</td>\n",
       "    </tr>\n",
       "    <tr>\n",
       "      <th>2</th>\n",
       "      <td>PM1.0_CF1_ug/m3</td>\n",
       "      <td>0.98</td>\n",
       "    </tr>\n",
       "    <tr>\n",
       "      <th>3</th>\n",
       "      <td>PM2.5_CF1_ug/m3</td>\n",
       "      <td>1.23</td>\n",
       "    </tr>\n",
       "    <tr>\n",
       "      <th>4</th>\n",
       "      <td>PM10.0_CF1_ug/m3</td>\n",
       "      <td>1.23</td>\n",
       "    </tr>\n",
       "    <tr>\n",
       "      <th>5</th>\n",
       "      <td>UptimeMinutes</td>\n",
       "      <td>2299.0</td>\n",
       "    </tr>\n",
       "    <tr>\n",
       "      <th>6</th>\n",
       "      <td>RSSI_dbm</td>\n",
       "      <td>-62.0</td>\n",
       "    </tr>\n",
       "    <tr>\n",
       "      <th>7</th>\n",
       "      <td>Temperature_F</td>\n",
       "      <td>83.0</td>\n",
       "    </tr>\n",
       "    <tr>\n",
       "      <th>8</th>\n",
       "      <td>Humidity_%</td>\n",
       "      <td>32.0</td>\n",
       "    </tr>\n",
       "    <tr>\n",
       "      <th>9</th>\n",
       "      <td>PM2.5_ATM_ug/m3</td>\n",
       "      <td>1.23</td>\n",
       "    </tr>\n",
       "    <tr>\n",
       "      <th>10</th>\n",
       "      <td>Unnamed: 10</td>\n",
       "      <td>NaN</td>\n",
       "    </tr>\n",
       "  </tbody>\n",
       "</table>\n",
       "</div>"
      ],
      "text/plain": [
       "               index                        0\n",
       "0         created_at  2018-05-20 00:00:35 UTC\n",
       "1           entry_id                    20733\n",
       "2    PM1.0_CF1_ug/m3                     0.98\n",
       "3    PM2.5_CF1_ug/m3                     1.23\n",
       "4   PM10.0_CF1_ug/m3                     1.23\n",
       "5      UptimeMinutes                   2299.0\n",
       "6           RSSI_dbm                    -62.0\n",
       "7      Temperature_F                     83.0\n",
       "8         Humidity_%                     32.0\n",
       "9    PM2.5_ATM_ug/m3                     1.23\n",
       "10       Unnamed: 10                      NaN"
      ]
     },
     "metadata": {},
     "output_type": "display_data"
    }
   ],
   "source": [
    "display_df(pa_raw.iloc[0].to_frame().reset_index(), rows=11)"
   ]
  },
  {
   "cell_type": "markdown",
   "metadata": {},
   "source": [
    "There are two columns that\n",
    "contain PM2.5 data: `PM2.5_CF1_ug/m3` and `PM2.5_ATM_ug/m3`.\n",
    "We'll keep `PM2.5_CF1_ug/m3` since the original researchers found that feature to be\n",
    "more effective."
   ]
  },
  {
   "cell_type": "code",
   "execution_count": 31,
   "metadata": {},
   "outputs": [
    {
     "data": {
      "text/html": [
       "<div>\n",
       "<style scoped>\n",
       "    .dataframe tbody tr th:only-of-type {\n",
       "        vertical-align: middle;\n",
       "    }\n",
       "\n",
       "    .dataframe tbody tr th {\n",
       "        vertical-align: top;\n",
       "    }\n",
       "\n",
       "    .dataframe thead th {\n",
       "        text-align: right;\n",
       "    }\n",
       "</style>\n",
       "<table border=\"1\" class=\"dataframe\">\n",
       "  <thead>\n",
       "    <tr style=\"text-align: right;\">\n",
       "      <th></th>\n",
       "      <th>timestamp</th>\n",
       "      <th>PM25cf1</th>\n",
       "      <th>TempF</th>\n",
       "      <th>RH</th>\n",
       "    </tr>\n",
       "  </thead>\n",
       "  <tbody>\n",
       "    <tr>\n",
       "      <th>0</th>\n",
       "      <td>2018-05-20 00:00:35 UTC</td>\n",
       "      <td>1.23</td>\n",
       "      <td>83.0</td>\n",
       "      <td>32.0</td>\n",
       "    </tr>\n",
       "    <tr>\n",
       "      <th>1</th>\n",
       "      <td>2018-05-20 00:01:55 UTC</td>\n",
       "      <td>1.94</td>\n",
       "      <td>83.0</td>\n",
       "      <td>32.0</td>\n",
       "    </tr>\n",
       "    <tr>\n",
       "      <th>2</th>\n",
       "      <td>2018-05-20 00:03:15 UTC</td>\n",
       "      <td>1.80</td>\n",
       "      <td>83.0</td>\n",
       "      <td>32.0</td>\n",
       "    </tr>\n",
       "    <tr>\n",
       "      <th>...</th>\n",
       "      <td>...</td>\n",
       "      <td>...</td>\n",
       "      <td>...</td>\n",
       "      <td>...</td>\n",
       "    </tr>\n",
       "    <tr>\n",
       "      <th>672752</th>\n",
       "      <td>2019-12-29 23:55:30 UTC</td>\n",
       "      <td>40.45</td>\n",
       "      <td>52.0</td>\n",
       "      <td>67.0</td>\n",
       "    </tr>\n",
       "    <tr>\n",
       "      <th>672753</th>\n",
       "      <td>2019-12-29 23:57:30 UTC</td>\n",
       "      <td>37.72</td>\n",
       "      <td>58.0</td>\n",
       "      <td>67.0</td>\n",
       "    </tr>\n",
       "    <tr>\n",
       "      <th>672754</th>\n",
       "      <td>2019-12-29 23:59:30 UTC</td>\n",
       "      <td>37.57</td>\n",
       "      <td>58.0</td>\n",
       "      <td>66.0</td>\n",
       "    </tr>\n",
       "  </tbody>\n",
       "</table>\n",
       "<p>672755 rows × 4 columns</p>\n",
       "</div>"
      ],
      "text/plain": [
       "                      timestamp  PM25cf1  TempF    RH\n",
       "0       2018-05-20 00:00:35 UTC     1.23   83.0  32.0\n",
       "1       2018-05-20 00:01:55 UTC     1.94   83.0  32.0\n",
       "2       2018-05-20 00:03:15 UTC     1.80   83.0  32.0\n",
       "...                         ...      ...    ...   ...\n",
       "672752  2019-12-29 23:55:30 UTC    40.45   52.0  67.0\n",
       "672753  2019-12-29 23:57:30 UTC    37.72   58.0  67.0\n",
       "672754  2019-12-29 23:59:30 UTC    37.57   58.0  66.0\n",
       "\n",
       "[672755 rows x 4 columns]"
      ]
     },
     "execution_count": 31,
     "metadata": {},
     "output_type": "execute_result"
    }
   ],
   "source": [
    "def subset_and_rename_A(df):\n",
    "    df = df[['created_at', 'PM2.5_CF1_ug/m3', 'Temperature_F', 'Humidity_%']]\n",
    "    df.columns = ['timestamp', 'PM25cf1', 'TempF',\n",
    "                  'RH'] # RH stands for Relative Humidity\n",
    "    return df\n",
    "\n",
    "pa = (pa_raw\n",
    "      .pipe(subset_and_rename_A))\n",
    "pa"
   ]
  },
  {
   "cell_type": "markdown",
   "metadata": {},
   "source": [
    "### What's the Granularity?"
   ]
  },
  {
   "cell_type": "code",
   "execution_count": 32,
   "metadata": {},
   "outputs": [
    {
     "data": {
      "text/html": [
       "<div>\n",
       "<style scoped>\n",
       "    .dataframe tbody tr th:only-of-type {\n",
       "        vertical-align: middle;\n",
       "    }\n",
       "\n",
       "    .dataframe tbody tr th {\n",
       "        vertical-align: top;\n",
       "    }\n",
       "\n",
       "    .dataframe thead th {\n",
       "        text-align: right;\n",
       "    }\n",
       "</style>\n",
       "<table border=\"1\" class=\"dataframe\">\n",
       "  <thead>\n",
       "    <tr style=\"text-align: right;\">\n",
       "      <th></th>\n",
       "      <th>timestamp</th>\n",
       "      <th>PM25cf1</th>\n",
       "      <th>TempF</th>\n",
       "      <th>RH</th>\n",
       "    </tr>\n",
       "  </thead>\n",
       "  <tbody>\n",
       "    <tr>\n",
       "      <th>0</th>\n",
       "      <td>2018-05-20 00:00:35 UTC</td>\n",
       "      <td>1.23</td>\n",
       "      <td>83.0</td>\n",
       "      <td>32.0</td>\n",
       "    </tr>\n",
       "    <tr>\n",
       "      <th>1</th>\n",
       "      <td>2018-05-20 00:01:55 UTC</td>\n",
       "      <td>1.94</td>\n",
       "      <td>83.0</td>\n",
       "      <td>32.0</td>\n",
       "    </tr>\n",
       "  </tbody>\n",
       "</table>\n",
       "</div>"
      ],
      "text/plain": [
       "                 timestamp  PM25cf1  TempF    RH\n",
       "0  2018-05-20 00:00:35 UTC     1.23   83.0  32.0\n",
       "1  2018-05-20 00:01:55 UTC     1.94   83.0  32.0"
      ]
     },
     "execution_count": 32,
     "metadata": {},
     "output_type": "execute_result"
    }
   ],
   "source": [
    "pa.head(2)"
   ]
  },
  {
   "cell_type": "code",
   "execution_count": 33,
   "metadata": {},
   "outputs": [
    {
     "data": {
      "text/plain": [
       "0        2018-05-20 00:00:35+00:00\n",
       "1        2018-05-20 00:01:55+00:00\n",
       "2        2018-05-20 00:03:15+00:00\n",
       "                    ...           \n",
       "672752   2019-12-29 23:55:30+00:00\n",
       "672753   2019-12-29 23:57:30+00:00\n",
       "672754   2019-12-29 23:59:30+00:00\n",
       "Name: timestamp, Length: 672755, dtype: datetime64[ns, UTC]"
      ]
     },
     "execution_count": 33,
     "metadata": {},
     "output_type": "execute_result"
    }
   ],
   "source": [
    "# BEGIN SOLUTION\n",
    "date_format = '%Y-%m-%d %X %Z'\n",
    "times = pd.to_datetime(pa['timestamp'], format=date_format)\n",
    "times\n",
    "# END SOLUTION"
   ]
  },
  {
   "cell_type": "code",
   "execution_count": 34,
   "metadata": {},
   "outputs": [
    {
     "data": {
      "text/html": [
       "<div>\n",
       "<style scoped>\n",
       "    .dataframe tbody tr th:only-of-type {\n",
       "        vertical-align: middle;\n",
       "    }\n",
       "\n",
       "    .dataframe tbody tr th {\n",
       "        vertical-align: top;\n",
       "    }\n",
       "\n",
       "    .dataframe thead th {\n",
       "        text-align: right;\n",
       "    }\n",
       "</style>\n",
       "<table border=\"1\" class=\"dataframe\">\n",
       "  <thead>\n",
       "    <tr style=\"text-align: right;\">\n",
       "      <th></th>\n",
       "      <th>PM25cf1</th>\n",
       "      <th>TempF</th>\n",
       "      <th>RH</th>\n",
       "    </tr>\n",
       "    <tr>\n",
       "      <th>timestamp</th>\n",
       "      <th></th>\n",
       "      <th></th>\n",
       "      <th></th>\n",
       "    </tr>\n",
       "  </thead>\n",
       "  <tbody>\n",
       "    <tr>\n",
       "      <th>2018-05-20 00:00:35+00:00</th>\n",
       "      <td>1.23</td>\n",
       "      <td>83.0</td>\n",
       "      <td>32.0</td>\n",
       "    </tr>\n",
       "    <tr>\n",
       "      <th>2018-05-20 00:01:55+00:00</th>\n",
       "      <td>1.94</td>\n",
       "      <td>83.0</td>\n",
       "      <td>32.0</td>\n",
       "    </tr>\n",
       "  </tbody>\n",
       "</table>\n",
       "</div>"
      ],
      "text/plain": [
       "                           PM25cf1  TempF    RH\n",
       "timestamp                                      \n",
       "2018-05-20 00:00:35+00:00     1.23   83.0  32.0\n",
       "2018-05-20 00:01:55+00:00     1.94   83.0  32.0"
      ]
     },
     "execution_count": 34,
     "metadata": {},
     "output_type": "execute_result"
    }
   ],
   "source": [
    "# BEGIN SOLUTION\n",
    "def parse_timestamps(df):\n",
    "    date_format = '%Y-%m-%d %X %Z'\n",
    "    times = pd.to_datetime(df['timestamp'], format=date_format)\n",
    "    return (df.assign(timestamp=times)\n",
    "            .set_index('timestamp'))\n",
    "\n",
    "pa = (pa_raw\n",
    "      .pipe(subset_and_rename_A)\n",
    "      .pipe(parse_timestamps))\n",
    "pa.head(2)\n",
    "# END SOLUTION"
   ]
  },
  {
   "cell_type": "markdown",
   "metadata": {},
   "source": [
    "Need to adjust for timezone!"
   ]
  },
  {
   "cell_type": "code",
   "execution_count": 35,
   "metadata": {},
   "outputs": [
    {
     "data": {
      "text/html": [
       "<div>\n",
       "<style scoped>\n",
       "    .dataframe tbody tr th:only-of-type {\n",
       "        vertical-align: middle;\n",
       "    }\n",
       "\n",
       "    .dataframe tbody tr th {\n",
       "        vertical-align: top;\n",
       "    }\n",
       "\n",
       "    .dataframe thead th {\n",
       "        text-align: right;\n",
       "    }\n",
       "</style>\n",
       "<table border=\"1\" class=\"dataframe\">\n",
       "  <thead>\n",
       "    <tr style=\"text-align: right;\">\n",
       "      <th></th>\n",
       "      <th>PM25cf1</th>\n",
       "      <th>TempF</th>\n",
       "      <th>RH</th>\n",
       "    </tr>\n",
       "    <tr>\n",
       "      <th>timestamp</th>\n",
       "      <th></th>\n",
       "      <th></th>\n",
       "      <th></th>\n",
       "    </tr>\n",
       "  </thead>\n",
       "  <tbody>\n",
       "    <tr>\n",
       "      <th>2018-05-19 17:00:35-07:00</th>\n",
       "      <td>1.23</td>\n",
       "      <td>83.0</td>\n",
       "      <td>32.0</td>\n",
       "    </tr>\n",
       "    <tr>\n",
       "      <th>2018-05-19 17:01:55-07:00</th>\n",
       "      <td>1.94</td>\n",
       "      <td>83.0</td>\n",
       "      <td>32.0</td>\n",
       "    </tr>\n",
       "    <tr>\n",
       "      <th>2018-05-19 17:03:15-07:00</th>\n",
       "      <td>1.80</td>\n",
       "      <td>83.0</td>\n",
       "      <td>32.0</td>\n",
       "    </tr>\n",
       "    <tr>\n",
       "      <th>...</th>\n",
       "      <td>...</td>\n",
       "      <td>...</td>\n",
       "      <td>...</td>\n",
       "    </tr>\n",
       "    <tr>\n",
       "      <th>2019-12-29 15:55:30-08:00</th>\n",
       "      <td>40.45</td>\n",
       "      <td>52.0</td>\n",
       "      <td>67.0</td>\n",
       "    </tr>\n",
       "    <tr>\n",
       "      <th>2019-12-29 15:57:30-08:00</th>\n",
       "      <td>37.72</td>\n",
       "      <td>58.0</td>\n",
       "      <td>67.0</td>\n",
       "    </tr>\n",
       "    <tr>\n",
       "      <th>2019-12-29 15:59:30-08:00</th>\n",
       "      <td>37.57</td>\n",
       "      <td>58.0</td>\n",
       "      <td>66.0</td>\n",
       "    </tr>\n",
       "  </tbody>\n",
       "</table>\n",
       "<p>672755 rows × 3 columns</p>\n",
       "</div>"
      ],
      "text/plain": [
       "                           PM25cf1  TempF    RH\n",
       "timestamp                                      \n",
       "2018-05-19 17:00:35-07:00     1.23   83.0  32.0\n",
       "2018-05-19 17:01:55-07:00     1.94   83.0  32.0\n",
       "2018-05-19 17:03:15-07:00     1.80   83.0  32.0\n",
       "...                            ...    ...   ...\n",
       "2019-12-29 15:55:30-08:00    40.45   52.0  67.0\n",
       "2019-12-29 15:57:30-08:00    37.72   58.0  67.0\n",
       "2019-12-29 15:59:30-08:00    37.57   58.0  66.0\n",
       "\n",
       "[672755 rows x 3 columns]"
      ]
     },
     "execution_count": 35,
     "metadata": {},
     "output_type": "execute_result"
    }
   ],
   "source": [
    "# https://pvlib-python.readthedocs.io/en/stable/timetimezones.html\n",
    "# The US/Pacific timezone corresponds to the timezone in California, and will\n",
    "# automatically adjust for Daylight Saving Time.\n",
    "pa.tz_convert('US/Pacific')"
   ]
  },
  {
   "cell_type": "code",
   "execution_count": 36,
   "metadata": {},
   "outputs": [
    {
     "data": {
      "text/html": [
       "<div>\n",
       "<style scoped>\n",
       "    .dataframe tbody tr th:only-of-type {\n",
       "        vertical-align: middle;\n",
       "    }\n",
       "\n",
       "    .dataframe tbody tr th {\n",
       "        vertical-align: top;\n",
       "    }\n",
       "\n",
       "    .dataframe thead th {\n",
       "        text-align: right;\n",
       "    }\n",
       "</style>\n",
       "<table border=\"1\" class=\"dataframe\">\n",
       "  <thead>\n",
       "    <tr style=\"text-align: right;\">\n",
       "      <th></th>\n",
       "      <th>PM25cf1</th>\n",
       "      <th>TempF</th>\n",
       "      <th>RH</th>\n",
       "    </tr>\n",
       "    <tr>\n",
       "      <th>timestamp</th>\n",
       "      <th></th>\n",
       "      <th></th>\n",
       "      <th></th>\n",
       "    </tr>\n",
       "  </thead>\n",
       "  <tbody>\n",
       "    <tr>\n",
       "      <th>2018-05-19 17:00:35-07:00</th>\n",
       "      <td>1.23</td>\n",
       "      <td>83.0</td>\n",
       "      <td>32.0</td>\n",
       "    </tr>\n",
       "    <tr>\n",
       "      <th>2018-05-19 17:01:55-07:00</th>\n",
       "      <td>1.94</td>\n",
       "      <td>83.0</td>\n",
       "      <td>32.0</td>\n",
       "    </tr>\n",
       "  </tbody>\n",
       "</table>\n",
       "</div>"
      ],
      "text/plain": [
       "                           PM25cf1  TempF    RH\n",
       "timestamp                                      \n",
       "2018-05-19 17:00:35-07:00     1.23   83.0  32.0\n",
       "2018-05-19 17:01:55-07:00     1.94   83.0  32.0"
      ]
     },
     "execution_count": 36,
     "metadata": {},
     "output_type": "execute_result"
    }
   ],
   "source": [
    "# BEGIN SOLUTION\n",
    "def convert_tz(pa):\n",
    "    return pa.tz_convert('US/Pacific')\n",
    "\n",
    "pa = (pa_raw\n",
    "      .pipe(subset_and_rename_A)\n",
    "      .pipe(parse_timestamps)\n",
    "      .pipe(convert_tz))\n",
    "pa.head(2)\n",
    "# END SOLUTION"
   ]
  },
  {
   "cell_type": "markdown",
   "metadata": {},
   "source": [
    "### Visualizing Timestamps"
   ]
  },
  {
   "cell_type": "code",
   "execution_count": 37,
   "metadata": {},
   "outputs": [
    {
     "data": {
      "text/plain": [
       "timestamp\n",
       "2018-05-19 00:00:00-07:00     315\n",
       "2018-05-20 00:00:00-07:00    1079\n",
       "2018-05-21 00:00:00-07:00    1074\n",
       "                             ... \n",
       "2019-12-27 00:00:00-08:00    1440\n",
       "2019-12-28 00:00:00-08:00    1200\n",
       "2019-12-29 00:00:00-08:00     480\n",
       "Freq: D, Length: 590, dtype: int64"
      ]
     },
     "execution_count": 37,
     "metadata": {},
     "output_type": "execute_result"
    }
   ],
   "source": [
    "# The 'D' argument tells resample to aggregate timestamps into individual dates\n",
    "(pa.resample('D')\n",
    " .size() # We can call aggregation methods just like we would with `groupby()`\n",
    ")"
   ]
  },
  {
   "cell_type": "code",
   "execution_count": 38,
   "metadata": {},
   "outputs": [
    {
     "data": {
      "text/html": [
       "<div>\n",
       "<style scoped>\n",
       "    .dataframe tbody tr th:only-of-type {\n",
       "        vertical-align: middle;\n",
       "    }\n",
       "\n",
       "    .dataframe tbody tr th {\n",
       "        vertical-align: top;\n",
       "    }\n",
       "\n",
       "    .dataframe thead th {\n",
       "        text-align: right;\n",
       "    }\n",
       "</style>\n",
       "<table border=\"1\" class=\"dataframe\">\n",
       "  <thead>\n",
       "    <tr style=\"text-align: right;\">\n",
       "      <th></th>\n",
       "      <th>timestamp</th>\n",
       "      <th># measurements</th>\n",
       "    </tr>\n",
       "  </thead>\n",
       "  <tbody>\n",
       "    <tr>\n",
       "      <th>0</th>\n",
       "      <td>2018-05-19 00:00:00-07:00</td>\n",
       "      <td>315</td>\n",
       "    </tr>\n",
       "    <tr>\n",
       "      <th>1</th>\n",
       "      <td>2018-05-20 00:00:00-07:00</td>\n",
       "      <td>1079</td>\n",
       "    </tr>\n",
       "    <tr>\n",
       "      <th>2</th>\n",
       "      <td>2018-05-21 00:00:00-07:00</td>\n",
       "      <td>1074</td>\n",
       "    </tr>\n",
       "    <tr>\n",
       "      <th>...</th>\n",
       "      <td>...</td>\n",
       "      <td>...</td>\n",
       "    </tr>\n",
       "    <tr>\n",
       "      <th>587</th>\n",
       "      <td>2019-12-27 00:00:00-08:00</td>\n",
       "      <td>1440</td>\n",
       "    </tr>\n",
       "    <tr>\n",
       "      <th>588</th>\n",
       "      <td>2019-12-28 00:00:00-08:00</td>\n",
       "      <td>1200</td>\n",
       "    </tr>\n",
       "    <tr>\n",
       "      <th>589</th>\n",
       "      <td>2019-12-29 00:00:00-08:00</td>\n",
       "      <td>480</td>\n",
       "    </tr>\n",
       "  </tbody>\n",
       "</table>\n",
       "<p>590 rows × 2 columns</p>\n",
       "</div>"
      ],
      "text/plain": [
       "                    timestamp  # measurements\n",
       "0   2018-05-19 00:00:00-07:00             315\n",
       "1   2018-05-20 00:00:00-07:00            1079\n",
       "2   2018-05-21 00:00:00-07:00            1074\n",
       "..                        ...             ...\n",
       "587 2019-12-27 00:00:00-08:00            1440\n",
       "588 2019-12-28 00:00:00-08:00            1200\n",
       "589 2019-12-29 00:00:00-08:00             480\n",
       "\n",
       "[590 rows x 2 columns]"
      ]
     },
     "execution_count": 38,
     "metadata": {},
     "output_type": "execute_result"
    }
   ],
   "source": [
    "per_day = (pa\n",
    " .resample('D')\n",
    " .size()\n",
    " .rename('# measurements')\n",
    " .reset_index()\n",
    ")\n",
    "per_day"
   ]
  },
  {
   "cell_type": "code",
   "execution_count": null,
   "metadata": {},
   "outputs": [],
   "source": [
    "px.line(per_day, x='timestamp', y='# measurements')"
   ]
  },
  {
   "cell_type": "markdown",
   "metadata": {},
   "source": [
    "PurpleAir says that its sensors take a recording every 2 minutes. What's weird about this plot?"
   ]
  },
  {
   "cell_type": "markdown",
   "metadata": {},
   "source": [
    "#### Why is the Sampling Rate Inconsistent?"
   ]
  },
  {
   "cell_type": "code",
   "execution_count": 40,
   "metadata": {},
   "outputs": [
    {
     "data": {
      "text/html": [
       "<div>\n",
       "<style scoped>\n",
       "    .dataframe tbody tr th:only-of-type {\n",
       "        vertical-align: middle;\n",
       "    }\n",
       "\n",
       "    .dataframe tbody tr th {\n",
       "        vertical-align: top;\n",
       "    }\n",
       "\n",
       "    .dataframe thead th {\n",
       "        text-align: right;\n",
       "    }\n",
       "</style>\n",
       "<table border=\"1\" class=\"dataframe\">\n",
       "  <thead>\n",
       "    <tr style=\"text-align: right;\">\n",
       "      <th></th>\n",
       "      <th>PM25cf1</th>\n",
       "      <th>TempF</th>\n",
       "      <th>RH</th>\n",
       "    </tr>\n",
       "    <tr>\n",
       "      <th>timestamp</th>\n",
       "      <th></th>\n",
       "      <th></th>\n",
       "      <th></th>\n",
       "    </tr>\n",
       "  </thead>\n",
       "  <tbody>\n",
       "    <tr>\n",
       "      <th>2019-01-01 00:00:17-08:00</th>\n",
       "      <td>0.61</td>\n",
       "      <td>50.0</td>\n",
       "      <td>28.0</td>\n",
       "    </tr>\n",
       "    <tr>\n",
       "      <th>2019-01-01 00:01:40-08:00</th>\n",
       "      <td>0.53</td>\n",
       "      <td>50.0</td>\n",
       "      <td>28.0</td>\n",
       "    </tr>\n",
       "    <tr>\n",
       "      <th>2019-01-01 00:02:57-08:00</th>\n",
       "      <td>0.40</td>\n",
       "      <td>50.0</td>\n",
       "      <td>28.0</td>\n",
       "    </tr>\n",
       "    <tr>\n",
       "      <th>...</th>\n",
       "      <td>...</td>\n",
       "      <td>...</td>\n",
       "      <td>...</td>\n",
       "    </tr>\n",
       "    <tr>\n",
       "      <th>2019-01-01 23:56:51-08:00</th>\n",
       "      <td>55.83</td>\n",
       "      <td>44.0</td>\n",
       "      <td>62.0</td>\n",
       "    </tr>\n",
       "    <tr>\n",
       "      <th>2019-01-01 23:58:19-08:00</th>\n",
       "      <td>60.64</td>\n",
       "      <td>44.0</td>\n",
       "      <td>61.0</td>\n",
       "    </tr>\n",
       "    <tr>\n",
       "      <th>2019-01-01 23:59:29-08:00</th>\n",
       "      <td>60.82</td>\n",
       "      <td>44.0</td>\n",
       "      <td>62.0</td>\n",
       "    </tr>\n",
       "  </tbody>\n",
       "</table>\n",
       "<p>2154 rows × 3 columns</p>\n",
       "</div>"
      ],
      "text/plain": [
       "                           PM25cf1  TempF    RH\n",
       "timestamp                                      \n",
       "2019-01-01 00:00:17-08:00     0.61   50.0  28.0\n",
       "2019-01-01 00:01:40-08:00     0.53   50.0  28.0\n",
       "2019-01-01 00:02:57-08:00     0.40   50.0  28.0\n",
       "...                            ...    ...   ...\n",
       "2019-01-01 23:56:51-08:00    55.83   44.0  62.0\n",
       "2019-01-01 23:58:19-08:00    60.64   44.0  61.0\n",
       "2019-01-01 23:59:29-08:00    60.82   44.0  62.0\n",
       "\n",
       "[2154 rows x 3 columns]"
      ]
     },
     "execution_count": 40,
     "metadata": {},
     "output_type": "execute_result"
    }
   ],
   "source": [
    "# Passing a string into .loc will filter timestamps\n",
    "pa.loc['2019-01-01'] # SOLUTION"
   ]
  },
  {
   "cell_type": "code",
   "execution_count": 41,
   "metadata": {},
   "outputs": [
    {
     "data": {
      "text/html": [
       "<div>\n",
       "<style scoped>\n",
       "    .dataframe tbody tr th:only-of-type {\n",
       "        vertical-align: middle;\n",
       "    }\n",
       "\n",
       "    .dataframe tbody tr th {\n",
       "        vertical-align: top;\n",
       "    }\n",
       "\n",
       "    .dataframe thead th {\n",
       "        text-align: right;\n",
       "    }\n",
       "</style>\n",
       "<table border=\"1\" class=\"dataframe\">\n",
       "  <thead>\n",
       "    <tr style=\"text-align: right;\">\n",
       "      <th></th>\n",
       "      <th>PM25cf1</th>\n",
       "      <th>TempF</th>\n",
       "      <th>RH</th>\n",
       "    </tr>\n",
       "    <tr>\n",
       "      <th>timestamp</th>\n",
       "      <th></th>\n",
       "      <th></th>\n",
       "      <th></th>\n",
       "    </tr>\n",
       "  </thead>\n",
       "  <tbody>\n",
       "    <tr>\n",
       "      <th>2019-01-01 00:00:17-08:00</th>\n",
       "      <td>0.61</td>\n",
       "      <td>50.0</td>\n",
       "      <td>28.0</td>\n",
       "    </tr>\n",
       "    <tr>\n",
       "      <th>2019-01-01 00:00:17-08:00</th>\n",
       "      <td>0.61</td>\n",
       "      <td>50.0</td>\n",
       "      <td>28.0</td>\n",
       "    </tr>\n",
       "  </tbody>\n",
       "</table>\n",
       "</div>"
      ],
      "text/plain": [
       "                           PM25cf1  TempF    RH\n",
       "timestamp                                      \n",
       "2019-01-01 00:00:17-08:00     0.61   50.0  28.0\n",
       "2019-01-01 00:00:17-08:00     0.61   50.0  28.0"
      ]
     },
     "execution_count": 41,
     "metadata": {},
     "output_type": "execute_result"
    }
   ],
   "source": [
    "pa.loc['2019-01-01 00:00']"
   ]
  },
  {
   "cell_type": "code",
   "execution_count": 42,
   "metadata": {},
   "outputs": [
    {
     "data": {
      "text/plain": [
       "timestamp\n",
       "2019-01-01 00:00:17-08:00    2\n",
       "2019-01-01 16:08:39-08:00    2\n",
       "2019-01-01 15:49:59-08:00    2\n",
       "                            ..\n",
       "2019-01-01 08:12:08-08:00    2\n",
       "2019-01-01 08:13:28-08:00    2\n",
       "2019-01-01 23:59:29-08:00    2\n",
       "Name: count, Length: 1077, dtype: int64"
      ]
     },
     "execution_count": 42,
     "metadata": {},
     "output_type": "execute_result"
    }
   ],
   "source": [
    "pa.loc['2019-01-01'].index.value_counts() # SOLUTION"
   ]
  },
  {
   "cell_type": "code",
   "execution_count": 43,
   "metadata": {},
   "outputs": [
    {
     "data": {
      "text/html": [
       "<div>\n",
       "<style scoped>\n",
       "    .dataframe tbody tr th:only-of-type {\n",
       "        vertical-align: middle;\n",
       "    }\n",
       "\n",
       "    .dataframe tbody tr th {\n",
       "        vertical-align: top;\n",
       "    }\n",
       "\n",
       "    .dataframe thead th {\n",
       "        text-align: right;\n",
       "    }\n",
       "</style>\n",
       "<table border=\"1\" class=\"dataframe\">\n",
       "  <thead>\n",
       "    <tr style=\"text-align: right;\">\n",
       "      <th></th>\n",
       "      <th>PM25cf1</th>\n",
       "      <th>TempF</th>\n",
       "      <th>RH</th>\n",
       "    </tr>\n",
       "    <tr>\n",
       "      <th>timestamp</th>\n",
       "      <th></th>\n",
       "      <th></th>\n",
       "      <th></th>\n",
       "    </tr>\n",
       "  </thead>\n",
       "  <tbody>\n",
       "    <tr>\n",
       "      <th>2018-05-19 17:00:35-07:00</th>\n",
       "      <td>1.23</td>\n",
       "      <td>83.0</td>\n",
       "      <td>32.0</td>\n",
       "    </tr>\n",
       "    <tr>\n",
       "      <th>2018-05-19 17:01:55-07:00</th>\n",
       "      <td>1.94</td>\n",
       "      <td>83.0</td>\n",
       "      <td>32.0</td>\n",
       "    </tr>\n",
       "  </tbody>\n",
       "</table>\n",
       "</div>"
      ],
      "text/plain": [
       "                           PM25cf1  TempF    RH\n",
       "timestamp                                      \n",
       "2018-05-19 17:00:35-07:00     1.23   83.0  32.0\n",
       "2018-05-19 17:01:55-07:00     1.94   83.0  32.0"
      ]
     },
     "execution_count": 43,
     "metadata": {},
     "output_type": "execute_result"
    }
   ],
   "source": [
    "# BEGIN SOLUTION\n",
    "def drop_duplicate_rows(df):\n",
    "    return df[~df.index.duplicated()]\n",
    "\n",
    "pa = (pa_raw\n",
    "      .pipe(subset_and_rename_A)\n",
    "      .pipe(parse_timestamps)\n",
    "      .pipe(convert_tz)\n",
    "      .pipe(drop_duplicate_rows))\n",
    "pa.head(2)\n",
    "# END SOLUTION"
   ]
  },
  {
   "cell_type": "code",
   "execution_count": 44,
   "metadata": {},
   "outputs": [
    {
     "data": {
      "text/html": [
       "<div>\n",
       "<style scoped>\n",
       "    .dataframe tbody tr th:only-of-type {\n",
       "        vertical-align: middle;\n",
       "    }\n",
       "\n",
       "    .dataframe tbody tr th {\n",
       "        vertical-align: top;\n",
       "    }\n",
       "\n",
       "    .dataframe thead th {\n",
       "        text-align: right;\n",
       "    }\n",
       "</style>\n",
       "<table border=\"1\" class=\"dataframe\">\n",
       "  <thead>\n",
       "    <tr style=\"text-align: right;\">\n",
       "      <th></th>\n",
       "      <th>timestamp</th>\n",
       "      <th># measurements</th>\n",
       "    </tr>\n",
       "  </thead>\n",
       "  <tbody>\n",
       "    <tr>\n",
       "      <th>0</th>\n",
       "      <td>2018-05-19 00:00:00-07:00</td>\n",
       "      <td>315</td>\n",
       "    </tr>\n",
       "    <tr>\n",
       "      <th>1</th>\n",
       "      <td>2018-05-20 00:00:00-07:00</td>\n",
       "      <td>1079</td>\n",
       "    </tr>\n",
       "    <tr>\n",
       "      <th>2</th>\n",
       "      <td>2018-05-21 00:00:00-07:00</td>\n",
       "      <td>1074</td>\n",
       "    </tr>\n",
       "    <tr>\n",
       "      <th>...</th>\n",
       "      <td>...</td>\n",
       "      <td>...</td>\n",
       "    </tr>\n",
       "    <tr>\n",
       "      <th>587</th>\n",
       "      <td>2019-12-27 00:00:00-08:00</td>\n",
       "      <td>720</td>\n",
       "    </tr>\n",
       "    <tr>\n",
       "      <th>588</th>\n",
       "      <td>2019-12-28 00:00:00-08:00</td>\n",
       "      <td>720</td>\n",
       "    </tr>\n",
       "    <tr>\n",
       "      <th>589</th>\n",
       "      <td>2019-12-29 00:00:00-08:00</td>\n",
       "      <td>480</td>\n",
       "    </tr>\n",
       "  </tbody>\n",
       "</table>\n",
       "<p>590 rows × 2 columns</p>\n",
       "</div>"
      ],
      "text/plain": [
       "                    timestamp  # measurements\n",
       "0   2018-05-19 00:00:00-07:00             315\n",
       "1   2018-05-20 00:00:00-07:00            1079\n",
       "2   2018-05-21 00:00:00-07:00            1074\n",
       "..                        ...             ...\n",
       "587 2019-12-27 00:00:00-08:00             720\n",
       "588 2019-12-28 00:00:00-08:00             720\n",
       "589 2019-12-29 00:00:00-08:00             480\n",
       "\n",
       "[590 rows x 2 columns]"
      ]
     },
     "execution_count": 44,
     "metadata": {},
     "output_type": "execute_result"
    }
   ],
   "source": [
    "per_day = (pa\n",
    " .resample('D')\n",
    " .size()\n",
    " .rename('# measurements')\n",
    " .reset_index()\n",
    ")\n",
    "per_day"
   ]
  },
  {
   "cell_type": "code",
   "execution_count": null,
   "metadata": {},
   "outputs": [],
   "source": [
    "px.line(per_day, x='timestamp', y='# measurements')"
   ]
  },
  {
   "cell_type": "markdown",
   "metadata": {},
   "source": [
    "### You Try: What do we do About Missing Data?"
   ]
  },
  {
   "cell_type": "code",
   "execution_count": 46,
   "metadata": {},
   "outputs": [],
   "source": [
    "## IGNORE ##\n",
    "\n",
    "# We'll follow Barkjohn's\n",
    "# original analysis: we only keep a 24-hour average if there are at least 90%\n",
    "# of the possible points for that day. We'll need to remember that\n",
    "# before May 30, 2019 there are 1080 possible points in a day---after May 30,\n",
    "# there are 720 points possible."
   ]
  },
  {
   "cell_type": "markdown",
   "metadata": {},
   "source": [
    "## Part 3: Exploring the Sensor Pair's Data"
   ]
  },
  {
   "cell_type": "markdown",
   "metadata": {},
   "source": [
    "What aspects of this data can we explore?"
   ]
  },
  {
   "cell_type": "code",
   "execution_count": null,
   "metadata": {},
   "outputs": [],
   "source": []
  },
  {
   "cell_type": "code",
   "execution_count": 47,
   "metadata": {},
   "outputs": [],
   "source": [
    "## IGNORE ##\n",
    "\n",
    "# Show how AQS and PA vary with each other over time and via scatter plot"
   ]
  },
  {
   "cell_type": "code",
   "execution_count": 48,
   "metadata": {},
   "outputs": [
    {
     "data": {
      "text/html": [
       "<div>\n",
       "<style scoped>\n",
       "    .dataframe tbody tr th:only-of-type {\n",
       "        vertical-align: middle;\n",
       "    }\n",
       "\n",
       "    .dataframe tbody tr th {\n",
       "        vertical-align: top;\n",
       "    }\n",
       "\n",
       "    .dataframe thead th {\n",
       "        text-align: right;\n",
       "    }\n",
       "</style>\n",
       "<table border=\"1\" class=\"dataframe\">\n",
       "  <thead>\n",
       "    <tr style=\"text-align: right;\">\n",
       "      <th></th>\n",
       "      <th>date</th>\n",
       "      <th>id</th>\n",
       "      <th>region</th>\n",
       "      <th>pm25aqs</th>\n",
       "      <th>pm25pa</th>\n",
       "      <th>temp</th>\n",
       "      <th>rh</th>\n",
       "      <th>dew</th>\n",
       "    </tr>\n",
       "  </thead>\n",
       "  <tbody>\n",
       "    <tr>\n",
       "      <th>0</th>\n",
       "      <td>2019-05-17</td>\n",
       "      <td>AK1</td>\n",
       "      <td>Alaska</td>\n",
       "      <td>6.7</td>\n",
       "      <td>8.62</td>\n",
       "      <td>18.03</td>\n",
       "      <td>38.56</td>\n",
       "      <td>3.63</td>\n",
       "    </tr>\n",
       "    <tr>\n",
       "      <th>1</th>\n",
       "      <td>2019-05-18</td>\n",
       "      <td>AK1</td>\n",
       "      <td>Alaska</td>\n",
       "      <td>3.8</td>\n",
       "      <td>3.49</td>\n",
       "      <td>16.12</td>\n",
       "      <td>49.40</td>\n",
       "      <td>5.44</td>\n",
       "    </tr>\n",
       "    <tr>\n",
       "      <th>2</th>\n",
       "      <td>2019-05-21</td>\n",
       "      <td>AK1</td>\n",
       "      <td>Alaska</td>\n",
       "      <td>4.0</td>\n",
       "      <td>3.80</td>\n",
       "      <td>19.90</td>\n",
       "      <td>29.97</td>\n",
       "      <td>1.73</td>\n",
       "    </tr>\n",
       "    <tr>\n",
       "      <th>...</th>\n",
       "      <td>...</td>\n",
       "      <td>...</td>\n",
       "      <td>...</td>\n",
       "      <td>...</td>\n",
       "      <td>...</td>\n",
       "      <td>...</td>\n",
       "      <td>...</td>\n",
       "      <td>...</td>\n",
       "    </tr>\n",
       "    <tr>\n",
       "      <th>12427</th>\n",
       "      <td>2019-02-20</td>\n",
       "      <td>WI6</td>\n",
       "      <td>North</td>\n",
       "      <td>15.6</td>\n",
       "      <td>25.30</td>\n",
       "      <td>1.71</td>\n",
       "      <td>65.78</td>\n",
       "      <td>-4.08</td>\n",
       "    </tr>\n",
       "    <tr>\n",
       "      <th>12428</th>\n",
       "      <td>2019-03-04</td>\n",
       "      <td>WI6</td>\n",
       "      <td>North</td>\n",
       "      <td>14.0</td>\n",
       "      <td>8.21</td>\n",
       "      <td>-14.38</td>\n",
       "      <td>48.21</td>\n",
       "      <td>-23.02</td>\n",
       "    </tr>\n",
       "    <tr>\n",
       "      <th>12429</th>\n",
       "      <td>2019-03-22</td>\n",
       "      <td>WI6</td>\n",
       "      <td>North</td>\n",
       "      <td>5.8</td>\n",
       "      <td>9.44</td>\n",
       "      <td>5.08</td>\n",
       "      <td>52.20</td>\n",
       "      <td>-4.02</td>\n",
       "    </tr>\n",
       "  </tbody>\n",
       "</table>\n",
       "<p>12246 rows × 8 columns</p>\n",
       "</div>"
      ],
      "text/plain": [
       "            date   id  region  pm25aqs  pm25pa   temp     rh    dew\n",
       "0     2019-05-17  AK1  Alaska      6.7    8.62  18.03  38.56   3.63\n",
       "1     2019-05-18  AK1  Alaska      3.8    3.49  16.12  49.40   5.44\n",
       "2     2019-05-21  AK1  Alaska      4.0    3.80  19.90  29.97   1.73\n",
       "...          ...  ...     ...      ...     ...    ...    ...    ...\n",
       "12427 2019-02-20  WI6   North     15.6   25.30   1.71  65.78  -4.08\n",
       "12428 2019-03-04  WI6   North     14.0    8.21 -14.38  48.21 -23.02\n",
       "12429 2019-03-22  WI6   North      5.8    9.44   5.08  52.20  -4.02\n",
       "\n",
       "[12246 rows x 8 columns]"
      ]
     },
     "execution_count": 48,
     "metadata": {},
     "output_type": "execute_result"
    }
   ],
   "source": [
    "csv_file = 'data/cleaned_purpleair_aqs/Full24hrdataset.csv'\n",
    "usecols = ['Date', 'ID', 'region', 'PM25FM', 'PM25cf1', 'TempC', 'RH', 'Dewpoint']\n",
    "\n",
    "full_df = (pd.read_csv(data('cleaned_purpleair_aqs/Full24hrdataset.csv'),\n",
    "                       usecols=usecols, parse_dates=['Date'])\n",
    "           .dropna())\n",
    "full_df.columns = ['date', 'id', 'region', 'pm25aqs', 'pm25pa', 'temp', 'rh', 'dew']\n",
    "full_df"
   ]
  },
  {
   "cell_type": "markdown",
   "metadata": {},
   "source": [
    "| Column  | Description                                                                                                                      |\n",
    "|---------|----------------------------------------------------------------------------------------------------------------------------------|\n",
    "| date    | Date of the observation                                                                                                          |\n",
    "| id      | A unique label for a site, formatted as the US state abbreviation with a number. (We performed data cleaning for site ID `CA1`.) |\n",
    "| region  | The name of the region, which corresponds to a group of sites. (The `CA1` site is located in the `West` region.)                 |\n",
    "| pm25aqs | The PM2.5 measurement from the AQS sensor.                                                                                       |\n",
    "| pm25pa  | The PM2.5 measurement from the PurpleAir sensor.                                                                                 |\n",
    "| temp    | Temperature, in Celcius.                                                                                                         |\n",
    "| rh      | Relative humidity, ranging from 0 to 100%.                                                                                       |\n",
    "| dew     | The dew point. (Higher dew point means more moisture in the air.)                                                     |"
   ]
  },
  {
   "cell_type": "code",
   "execution_count": null,
   "metadata": {},
   "outputs": [],
   "source": [
    "df = (full_df\n",
    " .query('id == \"CA1\"')\n",
    " .melt(['date'], ['pm25aqs', 'pm25pa'], var_name='sensor', value_name='pm25')\n",
    " .sort_values('date')\n",
    ")\n",
    "px.line(df, x='date', y='pm25', color='sensor')"
   ]
  },
  {
   "cell_type": "code",
   "execution_count": null,
   "metadata": {},
   "outputs": [],
   "source": [
    "px.scatter(full_df, x='pm25aqs', y='pm25pa')"
   ]
  },
  {
   "cell_type": "code",
   "execution_count": null,
   "metadata": {},
   "outputs": [],
   "source": [
    "under_50 = full_df[full_df['pm25aqs'] < 50]\n",
    "px.scatter(under_50, x='pm25aqs', y='pm25pa',\n",
    "           trendline='lowess',\n",
    "           trendline_color_override=\"orange\")"
   ]
  },
  {
   "cell_type": "code",
   "execution_count": null,
   "metadata": {},
   "outputs": [],
   "source": [
    "full_df[['pm25aqs', 'pm25pa']].corr()"
   ]
  },
  {
   "cell_type": "markdown",
   "metadata": {},
   "source": [
    "## Part 4: Modeling the Difference between US and PurpleAir"
   ]
  },
  {
   "cell_type": "markdown",
   "metadata": {},
   "source": [
    "Don't worry about the code below, I'll explain as we go."
   ]
  },
  {
   "cell_type": "code",
   "execution_count": 53,
   "metadata": {},
   "outputs": [
    {
     "data": {
      "text/html": [
       "<div>\n",
       "<style scoped>\n",
       "    .dataframe tbody tr th:only-of-type {\n",
       "        vertical-align: middle;\n",
       "    }\n",
       "\n",
       "    .dataframe tbody tr th {\n",
       "        vertical-align: top;\n",
       "    }\n",
       "\n",
       "    .dataframe thead th {\n",
       "        text-align: right;\n",
       "    }\n",
       "</style>\n",
       "<table border=\"1\" class=\"dataframe\">\n",
       "  <thead>\n",
       "    <tr style=\"text-align: right;\">\n",
       "      <th></th>\n",
       "      <th>date</th>\n",
       "      <th>id</th>\n",
       "      <th>region</th>\n",
       "      <th>pm25aqs</th>\n",
       "      <th>pm25pa</th>\n",
       "      <th>temp</th>\n",
       "      <th>rh</th>\n",
       "      <th>dew</th>\n",
       "    </tr>\n",
       "  </thead>\n",
       "  <tbody>\n",
       "    <tr>\n",
       "      <th>2685</th>\n",
       "      <td>2019-04-25</td>\n",
       "      <td>CA2</td>\n",
       "      <td>West</td>\n",
       "      <td>7.17</td>\n",
       "      <td>8.06</td>\n",
       "      <td>22.99</td>\n",
       "      <td>48.33</td>\n",
       "      <td>11.46</td>\n",
       "    </tr>\n",
       "    <tr>\n",
       "      <th>10214</th>\n",
       "      <td>2018-08-30</td>\n",
       "      <td>NC4</td>\n",
       "      <td>Southeast</td>\n",
       "      <td>12.60</td>\n",
       "      <td>23.13</td>\n",
       "      <td>33.01</td>\n",
       "      <td>46.22</td>\n",
       "      <td>19.98</td>\n",
       "    </tr>\n",
       "    <tr>\n",
       "      <th>10516</th>\n",
       "      <td>2019-08-14</td>\n",
       "      <td>VT1</td>\n",
       "      <td>North</td>\n",
       "      <td>6.78</td>\n",
       "      <td>8.70</td>\n",
       "      <td>25.44</td>\n",
       "      <td>49.25</td>\n",
       "      <td>14.01</td>\n",
       "    </tr>\n",
       "    <tr>\n",
       "      <th>...</th>\n",
       "      <td>...</td>\n",
       "      <td>...</td>\n",
       "      <td>...</td>\n",
       "      <td>...</td>\n",
       "      <td>...</td>\n",
       "      <td>...</td>\n",
       "      <td>...</td>\n",
       "      <td>...</td>\n",
       "    </tr>\n",
       "    <tr>\n",
       "      <th>5402</th>\n",
       "      <td>2019-10-10</td>\n",
       "      <td>GA1</td>\n",
       "      <td>Southeast</td>\n",
       "      <td>6.70</td>\n",
       "      <td>11.99</td>\n",
       "      <td>23.52</td>\n",
       "      <td>60.24</td>\n",
       "      <td>15.35</td>\n",
       "    </tr>\n",
       "    <tr>\n",
       "      <th>861</th>\n",
       "      <td>2019-01-31</td>\n",
       "      <td>AZ1</td>\n",
       "      <td>Central Southwest</td>\n",
       "      <td>9.40</td>\n",
       "      <td>10.98</td>\n",
       "      <td>20.90</td>\n",
       "      <td>29.33</td>\n",
       "      <td>2.31</td>\n",
       "    </tr>\n",
       "    <tr>\n",
       "      <th>7282</th>\n",
       "      <td>2018-08-10</td>\n",
       "      <td>IA2</td>\n",
       "      <td>North</td>\n",
       "      <td>18.67</td>\n",
       "      <td>43.22</td>\n",
       "      <td>29.60</td>\n",
       "      <td>50.17</td>\n",
       "      <td>18.15</td>\n",
       "    </tr>\n",
       "  </tbody>\n",
       "</table>\n",
       "<p>11246 rows × 8 columns</p>\n",
       "</div>"
      ],
      "text/plain": [
       "            date   id             region  pm25aqs  pm25pa   temp     rh    dew\n",
       "2685  2019-04-25  CA2               West     7.17    8.06  22.99  48.33  11.46\n",
       "10214 2018-08-30  NC4          Southeast    12.60   23.13  33.01  46.22  19.98\n",
       "10516 2019-08-14  VT1              North     6.78    8.70  25.44  49.25  14.01\n",
       "...          ...  ...                ...      ...     ...    ...    ...    ...\n",
       "5402  2019-10-10  GA1          Southeast     6.70   11.99  23.52  60.24  15.35\n",
       "861   2019-01-31  AZ1  Central Southwest     9.40   10.98  20.90  29.33   2.31\n",
       "7282  2018-08-10  IA2              North    18.67   43.22  29.60  50.17  18.15\n",
       "\n",
       "[11246 rows x 8 columns]"
      ]
     },
     "execution_count": 53,
     "metadata": {},
     "output_type": "execute_result"
    }
   ],
   "source": [
    "np.random.seed(42)\n",
    "\n",
    "n = len(full_df)\n",
    "test_n = 1000\n",
    "\n",
    "# Shuffle the row labels\n",
    "shuffled = np.random.choice(n, size=n, replace=False)\n",
    "\n",
    "# Split the data\n",
    "test  = full_df.iloc[shuffled[:test_n]]\n",
    "train = full_df.iloc[shuffled[test_n:]]\n",
    "train"
   ]
  },
  {
   "cell_type": "code",
   "execution_count": 54,
   "metadata": {},
   "outputs": [],
   "source": [
    "def rmse(predictions):\n",
    "    return np.sqrt(np.mean((test['pm25aqs'] - predictions)**2))"
   ]
  },
  {
   "cell_type": "code",
   "execution_count": 55,
   "metadata": {
    "tags": [
     "remove-cell"
    ]
   },
   "outputs": [],
   "source": [
    "def model_results(models):\n",
    "    results = [\n",
    "        [model.__doc__, rmse(model(train)(test))]\n",
    "        for model in models\n",
    "    ]\n",
    "    return (pd.DataFrame(results, columns=['model', 'rmse'])\n",
    "            .set_index('model'))"
   ]
  },
  {
   "cell_type": "markdown",
   "metadata": {},
   "source": [
    "### One-variable model (simple linear regression)"
   ]
  },
  {
   "cell_type": "code",
   "execution_count": 56,
   "metadata": {},
   "outputs": [],
   "source": [
    "from sklearn.linear_model import LinearRegression\n",
    "\n",
    "def model_1(train):\n",
    "    '''f(x) = θ₀ + θ₁PA'''\n",
    "    # Fit calibration model using sklearn\n",
    "    X, y = train[['pm25aqs']], train['pm25pa']\n",
    "    model = LinearRegression().fit(X, y)\n",
    "    m, b = model.coef_[0], model.intercept_\n",
    "\n",
    "    # Invert model\n",
    "    theta_1 = 1 / m\n",
    "    theta_0 = - b / m\n",
    "\n",
    "    def predict(data):\n",
    "        return theta_0 + theta_1 * data['pm25pa']\n",
    "    return predict"
   ]
  },
  {
   "cell_type": "code",
   "execution_count": 57,
   "metadata": {},
   "outputs": [
    {
     "data": {
      "text/html": [
       "<div>\n",
       "<style scoped>\n",
       "    .dataframe tbody tr th:only-of-type {\n",
       "        vertical-align: middle;\n",
       "    }\n",
       "\n",
       "    .dataframe tbody tr th {\n",
       "        vertical-align: top;\n",
       "    }\n",
       "\n",
       "    .dataframe thead th {\n",
       "        text-align: right;\n",
       "    }\n",
       "</style>\n",
       "<table border=\"1\" class=\"dataframe\">\n",
       "  <thead>\n",
       "    <tr style=\"text-align: right;\">\n",
       "      <th></th>\n",
       "      <th>rmse</th>\n",
       "    </tr>\n",
       "    <tr>\n",
       "      <th>model</th>\n",
       "      <th></th>\n",
       "    </tr>\n",
       "  </thead>\n",
       "  <tbody>\n",
       "    <tr>\n",
       "      <th>f(x) = θ₀ + θ₁PA</th>\n",
       "      <td>2.96</td>\n",
       "    </tr>\n",
       "  </tbody>\n",
       "</table>\n",
       "</div>"
      ],
      "text/plain": [
       "                  rmse\n",
       "model                 \n",
       "f(x) = θ₀ + θ₁PA  2.96"
      ]
     },
     "execution_count": 57,
     "metadata": {},
     "output_type": "execute_result"
    }
   ],
   "source": [
    "model_results([model_1])"
   ]
  },
  {
   "cell_type": "markdown",
   "metadata": {},
   "source": [
    "Under this model, $ \\hat \\theta_1 = 0.52 $ and $ \\hat \\theta_0 = 1.54 $, so our\n",
    "fitted model predicts:"
   ]
  },
  {
   "cell_type": "markdown",
   "metadata": {},
   "source": [
    "$$\n",
    "\\begin{aligned}\n",
    "\\text{PM}_{2.5} = 1.54 + 0.52 \\text{PA}\n",
    "\\end{aligned}\n",
    "$$"
   ]
  },
  {
   "cell_type": "markdown",
   "metadata": {},
   "source": [
    "### Model with both PurpleAir and Relative Humidity"
   ]
  },
  {
   "cell_type": "code",
   "execution_count": 58,
   "metadata": {},
   "outputs": [],
   "source": [
    "def model_2(train):\n",
    "    '''f(x) = θ₀ + θ₁PA + θ₂RH'''\n",
    "    # Fit calibration model using sklearn\n",
    "    X, y = train[['pm25aqs', 'rh']], train['pm25pa']\n",
    "    model = LinearRegression().fit(X, y)\n",
    "    [m1, m2], b = model.coef_, model.intercept_\n",
    "\n",
    "    # Invert to find parameters\n",
    "    theta_0 = - b / m1\n",
    "    theta_1 = 1 / m1\n",
    "    theta_2 = - m2 / m1\n",
    "\n",
    "    def predict(data):\n",
    "        return theta_0 + theta_1 * data['pm25pa'] + theta_2 * data['rh']\n",
    "        return (data['pm25pa'] - data['rh'] * m2 - b) / m1\n",
    "    return predict"
   ]
  },
  {
   "cell_type": "code",
   "execution_count": 59,
   "metadata": {},
   "outputs": [
    {
     "data": {
      "text/html": [
       "<div>\n",
       "<style scoped>\n",
       "    .dataframe tbody tr th:only-of-type {\n",
       "        vertical-align: middle;\n",
       "    }\n",
       "\n",
       "    .dataframe tbody tr th {\n",
       "        vertical-align: top;\n",
       "    }\n",
       "\n",
       "    .dataframe thead th {\n",
       "        text-align: right;\n",
       "    }\n",
       "</style>\n",
       "<table border=\"1\" class=\"dataframe\">\n",
       "  <thead>\n",
       "    <tr style=\"text-align: right;\">\n",
       "      <th></th>\n",
       "      <th>rmse</th>\n",
       "    </tr>\n",
       "    <tr>\n",
       "      <th>model</th>\n",
       "      <th></th>\n",
       "    </tr>\n",
       "  </thead>\n",
       "  <tbody>\n",
       "    <tr>\n",
       "      <th>f(x) = θ₀ + θ₁PA</th>\n",
       "      <td>2.96</td>\n",
       "    </tr>\n",
       "    <tr>\n",
       "      <th>f(x) = θ₀ + θ₁PA + θ₂RH</th>\n",
       "      <td>2.58</td>\n",
       "    </tr>\n",
       "  </tbody>\n",
       "</table>\n",
       "</div>"
      ],
      "text/plain": [
       "                         rmse\n",
       "model                        \n",
       "f(x) = θ₀ + θ₁PA         2.96\n",
       "f(x) = θ₀ + θ₁PA + θ₂RH  2.58"
      ]
     },
     "execution_count": 59,
     "metadata": {},
     "output_type": "execute_result"
    }
   ],
   "source": [
    "model_results([model_1, model_2])"
   ]
  },
  {
   "cell_type": "markdown",
   "metadata": {},
   "source": [
    "After fitting the model, we have:\n",
    "$ \\hat \\theta_0 = 5.77 $, $ \\hat \\theta_1 = 0.524 $, and\n",
    "$ \\hat \\theta_2 = -0.0860 $\n",
    "so our fitted model predicts:"
   ]
  },
  {
   "cell_type": "markdown",
   "metadata": {},
   "source": [
    "$$\n",
    "\\begin{aligned}\n",
    "\\text{PM}_{2.5} = 5.77 + 0.524 \\cdot \\text{PA} - 0.086 \\cdot \\text{RH}\n",
    "\\end{aligned}\n",
    "$$"
   ]
  },
  {
   "cell_type": "code",
   "execution_count": null,
   "metadata": {},
   "outputs": [],
   "source": []
  }
 ],
 "metadata": {
  "kernelspec": {
   "display_name": "Python 3 (ipykernel)",
   "language": "python",
   "name": "python3"
  },
  "language_info": {
   "codemirror_mode": {
    "name": "ipython",
    "version": 3
   },
   "file_extension": ".py",
   "mimetype": "text/x-python",
   "name": "python",
   "nbconvert_exporter": "python",
   "pygments_lexer": "ipython3",
   "version": "3.12.6"
  }
 },
 "nbformat": 4,
 "nbformat_minor": 4
}
